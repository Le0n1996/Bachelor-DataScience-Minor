{
 "cells": [
  {
   "cell_type": "markdown",
   "metadata": {},
   "source": [
    "# Задание (на дом, если не успеете)\n",
    "\n"
   ]
  },
  {
   "cell_type": "markdown",
   "metadata": {},
   "source": [
    "Сейчас мы сделаем ровно тоже самое, но для логистической регресии.\n",
    "\n",
    "Рассмотрим принадлежность к классу $y=\\pm1$ некого объекта $x$: $p(y=\\pm1 | x,\\beta)$ и выразим её через **сигмойду** от **отступа**:\n",
    "$$p(y=\\pm1|x,\\beta) = \\sigma(y \\langle \\beta, x \\rangle), $$\n",
    "где \n",
    "$$\\sigma(z) = \\frac{1}{1 + exp{(-z)}},$$\n",
    "\n",
    "А ошибка, которую мы будем минимизировать - логарифмическая:\n",
    "\n",
    "$$L(\\beta) = -\\frac{1}{N}\\sum_i \\log(\\sigma(y^{(i)} \\langle \\beta, x^{(i)} \\rangle)) \\rightarrow \\min_\\beta$$"
   ]
  },
  {
   "cell_type": "markdown",
   "metadata": {},
   "source": [
    "Соответственно, вам нужно:\n",
    "* Вычислить градиент $L(\\beta)$ по $\\beta$\n",
    "* Модифицировать функцию градиентного спуска, чтобы он работал с логарифмической функцией потерь\n",
    "\n",
    "Примените функцию к данным [по успешности забивания голов в NFL](http://www.stat.ufl.edu/~winner/data/fieldgoal.dat). Описание вы найдете [здесь](http://www.stat.ufl.edu/~winner/data/fieldgoal.txt).\n",
    "В уравнение регрессии включайте только расстояние до ворот (первый столбец) и свободный член."
   ]
  },
  {
   "cell_type": "code",
   "execution_count": 1,
   "metadata": {
    "collapsed": true
   },
   "outputs": [],
   "source": [
    "import numpy as np\n",
    "import pandas as pd\n",
    "from scipy.special import expit"
   ]
  },
  {
   "cell_type": "code",
   "execution_count": 2,
   "metadata": {},
   "outputs": [
    {
     "data": {
      "text/plain": [
       "array([[ 30.,   1.,   1.],\n",
       "       [ 41.,   1.,   1.],\n",
       "       [ 50.,   1.,   1.],\n",
       "       ..., \n",
       "       [ 47.,   1.,  17.],\n",
       "       [ 52.,   0.,  17.],\n",
       "       [ 51.,   0.,  17.]])"
      ]
     },
     "execution_count": 2,
     "metadata": {},
     "output_type": "execute_result"
    }
   ],
   "source": [
    "data = np.loadtxt('fieldgoal.dat')\n",
    "data"
   ]
  },
  {
   "cell_type": "code",
   "execution_count": 3,
   "metadata": {},
   "outputs": [],
   "source": [
    "df = data[:, 0]\n",
    "df = (df - df.mean())/df.std()\n",
    "X = np.c_[df, np.ones((data.shape[0], 1))]\n",
    "y = data[:, 1]"
   ]
  },
  {
   "cell_type": "code",
   "execution_count": 4,
   "metadata": {},
   "outputs": [
    {
     "name": "stdout",
     "output_type": "stream",
     "text": [
      "[[-0.66667888  1.        ]\n",
      " [ 0.46081501  1.        ]\n",
      " [ 1.38331001  1.        ]\n",
      " [-1.48667443  1.        ]\n",
      " [-0.35918054  1.        ]\n",
      " [ 0.76831335  1.        ]\n",
      " [ 0.35831557  1.        ]\n",
      " [ 1.89580723  1.        ]\n",
      " [ 1.28081057  1.        ]\n",
      " [ 1.48580946  1.        ]]\n",
      "[ 1.  1.  1.  1.  1.  1.  1.  0.  1.  1.]\n"
     ]
    }
   ],
   "source": [
    "print(X[:10])\n",
    "print(y[:10])"
   ]
  },
  {
   "cell_type": "code",
   "execution_count": 5,
   "metadata": {
    "collapsed": true
   },
   "outputs": [],
   "source": [
    "def gradient_descent_lg(X, y, iters, alpha):\n",
    "    n = y.shape[0]\n",
    "    Beta = np.random.rand(2)\n",
    "    \n",
    "    for i in range(iters):\n",
    "        y_hat = expit(y * (X.dot(Beta)))\n",
    "        \n",
    "        # считаем ошибку и значение функции потерь\n",
    "        error = np.log(y_hat)\n",
    "        cost = -np.sum(error)/float(n)\n",
    "        \n",
    "        # считаем градиент\n",
    "        grad = -X.T.dot(y * (1 - y_hat)) / n\n",
    "\n",
    "        # обновляем коэффициенты\n",
    "        Beta = Beta - alpha * grad\n",
    "        \n",
    "    return Beta"
   ]
  },
  {
   "cell_type": "code",
   "execution_count": 6,
   "metadata": {},
   "outputs": [
    {
     "name": "stdout",
     "output_type": "stream",
     "text": [
      "[-0.19168991  3.61805207]\n",
      "[-0.19279073  5.96529725]\n",
      "[-0.19940994  8.27121533]\n"
     ]
    }
   ],
   "source": [
    "print(gradient_descent_lg(X, y, 1000, 0.05))\n",
    "print(gradient_descent_lg(X, y, 10000, 0.05))\n",
    "print(gradient_descent_lg(X, y, 100000, 0.05))"
   ]
  },
  {
   "cell_type": "code",
   "execution_count": null,
   "metadata": {
    "collapsed": true
   },
   "outputs": [],
   "source": []
  }
 ],
 "metadata": {
  "anaconda-cloud": {},
  "kernelspec": {
   "display_name": "Python 3",
   "language": "python",
   "name": "python3"
  },
  "language_info": {
   "codemirror_mode": {
    "name": "ipython",
    "version": 3
   },
   "file_extension": ".py",
   "mimetype": "text/x-python",
   "name": "python",
   "nbconvert_exporter": "python",
   "pygments_lexer": "ipython3",
   "version": "3.7.3"
  },
  "nav_menu": {},
  "toc": {
   "navigate_menu": true,
   "number_sections": true,
   "sideBar": true,
   "threshold": 6,
   "toc_cell": true,
   "toc_section_display": "block",
   "toc_window_display": true
  }
 },
 "nbformat": 4,
 "nbformat_minor": 1
}
