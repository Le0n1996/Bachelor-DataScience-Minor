{
 "cells": [
  {
   "cell_type": "code",
   "execution_count": 45,
   "metadata": {},
   "outputs": [],
   "source": [
    "import pandas as pd\n",
    "import numpy as np"
   ]
  },
  {
   "cell_type": "code",
   "execution_count": 53,
   "metadata": {},
   "outputs": [],
   "source": [
    "data = pd.read_csv('a.txt', sep='\\t')\n",
    "m = data.values"
   ]
  },
  {
   "cell_type": "code",
   "execution_count": 82,
   "metadata": {},
   "outputs": [],
   "source": [
    "file = open('C:/Users/Лев/Downloads/Новая папка/input.txt', 'w')\n",
    "for i in range(m.shape[0]):\n",
    "    for j in range(m.shape[1]):\n",
    "        if m[i,j] == 1:\n",
    "            file.write(str(j) + ' ')\n",
    "    file.write('\\n')\n",
    "file.close()\n",
    "\n",
    "# Поддержка 35 означает, что 35/2000 поддерживают, т.е. minsupp = 0.0175"
   ]
  },
  {
   "cell_type": "markdown",
   "metadata": {},
   "source": [
    "### 1."
   ]
  },
  {
   "cell_type": "markdown",
   "metadata": {},
   "source": [
    "a) 20910 частых множеств с minsupp=35\n",
    "\n",
    "б) 13812 частых замкнутых множеств с minsupp=35\n",
    "\n",
    "в) 4002 частых максимальных множества с minsupp=35"
   ]
  },
  {
   "cell_type": "markdown",
   "metadata": {},
   "source": [
    "г) Рассмотрим любое множество, например, полученное в 1в. К примеру, (1021 1906 995 1888 1011 989 1001 1882 1913). Получаем, что это очень близкие по смыслу словосочетания:"
   ]
  },
  {
   "cell_type": "code",
   "execution_count": 91,
   "metadata": {},
   "outputs": [
    {
     "name": "stdout",
     "output_type": "stream",
     "text": [
      "casino online\n",
      "gambling online\n",
      "casino gambling online\n",
      "gambling internet\n",
      "casino internet\n",
      "casino gambling\n",
      "casino game online\n",
      "gambling\n",
      "gambling site\n"
     ]
    }
   ],
   "source": [
    "print(data.axes[1][1021])\n",
    "print(data.axes[1][1906])\n",
    "print(data.axes[1][995])\n",
    "print(data.axes[1][1888])\n",
    "print(data.axes[1][1011])\n",
    "print(data.axes[1][989])\n",
    "print(data.axes[1][1001])\n",
    "print(data.axes[1][1882])\n",
    "print(data.axes[1][1913])"
   ]
  },
  {
   "cell_type": "markdown",
   "metadata": {},
   "source": [
    "### 2."
   ]
  },
  {
   "cell_type": "markdown",
   "metadata": {},
   "source": [
    "a) 10940 ассоциативных правил для minsupp=35 и minconf=1\n",
    "\n",
    "б) 13812 замкнутых ассоциативных правил для minsupp=35 и minconf=1\n",
    "\n",
    "в) см. ниже, правил оказалось не 5, а 6 (можно не рассматривать последнее, достоверность которого меньше чем у остальных)"
   ]
  },
  {
   "cell_type": "code",
   "execution_count": 80,
   "metadata": {
    "collapsed": true
   },
   "outputs": [],
   "source": [
    "# 663 674  ==> 345  #SUP: 90 #CONF: 0.8256880733944955\n",
    "# 345 674  ==> 663  #SUP: 90 #CONF: 0.8490566037735849\n",
    "# 2536  ==> 2336  #SUP: 91 #CONF: 0.8666666666666667\n",
    "# 355  ==> 345  #SUP: 102 #CONF: 0.8292682926829268\n",
    "# 355  ==> 674  #SUP: 105 #CONF: 0.8536585365853658\n",
    "# 2159  ==> 2166  #SUP: 109 #CONF: 0.8074074074074075\n",
    "\n",
    "# Посмотрим, какие словосочетания находятся по выданным номерам:"
   ]
  },
  {
   "cell_type": "code",
   "execution_count": 81,
   "metadata": {},
   "outputs": [
    {
     "name": "stdout",
     "output_type": "stream",
     "text": [
      "business home\n",
      "business home opportunity\n",
      "based business home \n",
      "\n",
      "based business home\n",
      "business home opportunity\n",
      "business home \n",
      "\n",
      "marketing online\n",
      "internet marketing \n",
      "\n",
      "based business home opportunity\n",
      "based business home \n",
      "\n",
      "based business home opportunity\n",
      "business home opportunity \n",
      "\n",
      "hosting site web\n",
      "hosting web \n",
      "\n"
     ]
    }
   ],
   "source": [
    "print(data.axes[1][663])\n",
    "print(data.axes[1][674])\n",
    "print(data.axes[1][345], '\\n')\n",
    "\n",
    "print(data.axes[1][345])\n",
    "print(data.axes[1][674])\n",
    "print(data.axes[1][663], '\\n')\n",
    "\n",
    "print(data.axes[1][2536])\n",
    "print(data.axes[1][2336], '\\n')\n",
    "\n",
    "print(data.axes[1][355])\n",
    "print(data.axes[1][345], '\\n')\n",
    "\n",
    "print(data.axes[1][355])\n",
    "print(data.axes[1][674], '\\n')\n",
    "\n",
    "print(data.axes[1][2159])\n",
    "print(data.axes[1][2166], '\\n')"
   ]
  },
  {
   "cell_type": "markdown",
   "metadata": {},
   "source": [
    "Эти правила указывают на словосочетания, которые являются синонимами, поэтому они так часто встречаются вместе, и поэтому достоверность такая высокая."
   ]
  },
  {
   "cell_type": "code",
   "execution_count": null,
   "metadata": {
    "collapsed": true
   },
   "outputs": [],
   "source": []
  }
 ],
 "metadata": {
  "kernelspec": {
   "display_name": "Python 3",
   "language": "python",
   "name": "python3"
  },
  "language_info": {
   "codemirror_mode": {
    "name": "ipython",
    "version": 3
   },
   "file_extension": ".py",
   "mimetype": "text/x-python",
   "name": "python",
   "nbconvert_exporter": "python",
   "pygments_lexer": "ipython3",
   "version": "3.7.3"
  }
 },
 "nbformat": 4,
 "nbformat_minor": 1
}
