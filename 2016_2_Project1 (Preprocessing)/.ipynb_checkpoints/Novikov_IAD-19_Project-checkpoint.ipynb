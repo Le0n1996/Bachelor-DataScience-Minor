{
 "cells": [
  {
   "cell_type": "markdown",
   "metadata": {},
   "source": [
    "# Проект по анализу данных\n",
    "\n",
    "## Общая информация\n",
    "\n",
    "Дата выдачи: 22.03.2016\n",
    "\n",
    "Срок сдачи: 10.04.2016 09:00MSK\n",
    "\n",
    "### О задании\n",
    "В рамках курса \"Интеллектуальный анализ данных\" помимо выполнения контрольных и практических заданий вам также нужно выполнить проект. За каждый модуль ставится отдельная оценка. В этом модуле вам предстоит познакомиться с данными, сделать их описание, поискать закономерности. В следующем модуле вы продолжите работу с этими данными, но уже будете строить непосредственные модели, работающие с ними. \n",
    "\n",
    "Там, где требуется написать код, будет указано:\n",
    "    \n",
    "    ######################\n",
    "    ### YOUR CODE HERE ###\n",
    "    ######################\n",
    "\n",
    "### Оценивание и штрафы\n",
    "Каждая из задач имеет определенную «стоимость» (указана в скобках около задачи). Максимально допустимая оценка за работу — 10 баллов. Помимо кода вам также требуется написать развернутые ответы на вопросы.\n",
    "\n",
    "Сдавать задание после указанного срока сдачи нельзя. При выставлении неполного балла за задание в связи с наличием ошибок на усмотрение проверяющего предусмотрена возможность исправить задание на указанных в ответном письме условиях.\n",
    "\n",
    "Задание выполняется САМОСТОЯТЕЛЬНО. «Похожие» решения считаются плагиатом и все задействованные студенты (в том числе те, у кого списали) не могут получить за него больше 0 баллов. Если вы нашли решение какого-то из заданий в открытом источнике, необходимо прислать ссылку на этот источник (скорее всего вы будете не единственным, кто это нашел, поэтому чтобы исключить подозрение в плагиате, необходима ссылка на источник).\n",
    "\n",
    "Если вы будете решать задание на виртуальной машине, учтите, что его могут видеть все. К тому же недоступность виртуальной машины не является уважительной причиной для продления дедлайна.\n",
    "\n",
    "Обратите внимание, что на устном зачете в конце семестра некотоые вопросы могут быть связаны с проектом.\n",
    "\n",
    "### Доп. баллы\n",
    "В данном проекте вам будет предложено рассмотреть некоторые интересные закономерности в данных. Если вы обнаружите что-то интересное (например, в последнем пункте), либо у вас есть идеи как можно работать с данным датасетом — присылайте, это будет поощряться дополнительными баллами. Кроме того, вы можете выступить со своим личным исследованием на семинаре, это также не останется незамеченным.\n",
    "\n",
    "### Формат сдачи\n",
    "Для сдачи задания переименуйте получившийся файл *.ipynb в соответствии со следующим форматом: Username_(group)_Project.ipynb, где Username — ваша фамилия на латинице, group — название группы (например, Petrov_IAD-19_Project.ipynb). Далее отправьте этот файл на используемую в Вашей группе почту курса (hse.minor.dm@gmail.com) c темой письма [ИАД-19] - Проект - Фамилия Имя Отчество."
   ]
  },
  {
   "cell_type": "markdown",
   "metadata": {},
   "source": [
    "## Определение итоговой оценки студента"
   ]
  },
  {
   "cell_type": "markdown",
   "metadata": {},
   "source": [
    "В качестве данных мы будем рассматривать два датасета, а именно предсказание оценки по португальскому языку или математике. С какими именно данными нужно будет работать вам можно узнать, посмотрев [распределение по вариантам](https://docs.google.com/spreadsheets/d/1UUlgsu5TD-_YUNVtGkhrFr1zaQSHiQ8JfZ7VfbzYKAg/edit?usp=sharing)."
   ]
  },
  {
   "cell_type": "markdown",
   "metadata": {},
   "source": [
    "По набору и типу признаков эти данных никак не отличаются, поэтому на все вопросы ниже вам нужно ответить в рамках вашего датасета."
   ]
  },
  {
   "cell_type": "code",
   "execution_count": 2,
   "metadata": {
    "collapsed": true
   },
   "outputs": [],
   "source": [
    "import numpy as np\n",
    "import pandas as pd\n",
    "import scipy as sp\n",
    "import pylab as plt\n",
    "%matplotlib inline"
   ]
  },
  {
   "cell_type": "markdown",
   "metadata": {},
   "source": [
    "Для начала загрузите данные. Обратите внимание, чтобы данные были загружены верно (был указан верный разделитель, а так же корректно отображались названия столбцов). Чтобы это проверить, а также посмотреть что представляют из себя данные, можно вывести первые несколько строк загруженного датасета на экран."
   ]
  },
  {
   "cell_type": "code",
   "execution_count": 3,
   "metadata": {},
   "outputs": [
    {
     "name": "stdout",
     "output_type": "stream",
     "text": [
      "  school sex  age address famsize Pstatus  Medu  Fedu     Mjob     Fjob ...  \\\n",
      "0     GP   F   18       U     GT3       A     4     4  at_home  teacher ...   \n",
      "1     GP   F   17       U     GT3       T     1     1  at_home    other ...   \n",
      "2     GP   F   15       U     LE3       T     1     1  at_home    other ...   \n",
      "\n",
      "  famrel freetime  goout  Dalc  Walc health absences  G1  G2  G3  \n",
      "0      4        3      4     1     1      3        4   0  11  11  \n",
      "1      5        3      3     1     1      3        2   9  11  11  \n",
      "2      4        3      2     2     3      3        6  12  13  12  \n",
      "\n",
      "[3 rows x 33 columns]\n"
     ]
    }
   ],
   "source": [
    "######################\n",
    "### YOUR CODE HERE ###\n",
    "######################\n",
    "data = pd.read_csv('student-por.csv', sep=';')\n",
    "## why there are no commands like pd.read_tsv('student-por.csv') or pd.read_scsv('student-por.csv'), i wonder\n",
    "print(data[:3])"
   ]
  },
  {
   "cell_type": "markdown",
   "metadata": {},
   "source": [
    "**(0.5 балла)** Что в данной задаче является объектом?"
   ]
  },
  {
   "cell_type": "markdown",
   "metadata": {},
   "source": [
    "Объектом является школьник (он обладает несколькими признаками, и мы пытаемся спрогнозировать его итоговую оценку за португальский исходя из них)."
   ]
  },
  {
   "cell_type": "markdown",
   "metadata": {},
   "source": [
    "Как можно видеть, признаков много и они все разной природы. Вот более подробная расшифровка признаков:\n",
    "\n",
    " - school - тип школы (\"GP\" - Gabriel Pereira или \"MS\" - Mousinho da Silveira)\n",
    " - sex - пол (\"F\" - female или \"M\" - male)\n",
    " - age - возраст (от 15 до 22)\n",
    " - address - откуда студент (\"U\" - urban или \"R\" - rural)\n",
    " - famsize - размер семьи (\"LE3\" - меньше или равно 3 или \"GT3\" - больше 3)\n",
    " - Pstatus - в каких отношениях родители (\"T\" - живут вместе \"A\" - раздельно)\n",
    " - Medu - образование матери (0 - никакого,  1 - начальное образование (4 класса), 2 – от 5 до 9 классов, 3 – среднеспециальное или 4 – высшее)\n",
    " - Fedu - образование отца (0 - никакого,  1 - начальное образование (4 класса), 2 – от 5 до 9 классов, 3 – среднеспециальное или 4 – высшее)\n",
    " - Mjob - работа матери (\"teacher\", \"health\" care related, civil \"services\" (e.g. administrative or police), \"at_home\" or \"other\")\n",
    " - Fjob - работа отца (\"teacher\", \"health\" care related, civil \"services\" (e.g. administrative or police), \"at_home\" or \"other\")\n",
    " - reason - причина выбора школы (близко к дому — \"home\", репутация школы — \"reputation\", \"course\" предпочтение некоторым предметам или \"other\")\n",
    " - guardian - опекун (\"mother\", \"father\" или \"other\")\n",
    " - traveltime - время от дома до школы (1 - меньше 15 мин., 2 - 15 до 30 мин., 3 - 30 мин. до 1 часа, или 4 - больше 1 часа)\n",
    " - studytime - количество часов обучения в неделю (1 - меньше 2 часов, 2 - от 2 до 5 часов, 3 - от 5 до 10 часов, или 4 - больше 10 часов)\n",
    " - failures - количество ранее не сданных предметов (n if 1 <= n < 3, else 4)\n",
    " - schoolsup - дополнительные занятия (yes or no)\n",
    " - famsup - помощь от семьи при выполнении заданий (yes or no)\n",
    " - paid - дополнительные платные занятия (yes or no)\n",
    " - activities - внеклассная деятельность (yes or no)\n",
    " - nursery - посещал детский сад (yes or no)\n",
    " - higher - желание высшего образования (yes or no)\n",
    " - internet - домашний интернет (yes or no)\n",
    " - romantic - состоит в романтических отношениях (yes or no)\n",
    " - famrel - насколько хорошо отношения в семье (от 1 - очень плохие до 5 - превосходные)\n",
    " - freetime - наличие свободного времени после школы (от 1 - очень мало до 5 - очень много)\n",
    " - goout - гуляет с друзьями (от 1 - редко до 5 - очень часто)\n",
    " - Dalc - употребление алкоголя в будние дни (от 1 - очень редко до 5 - очень часто)\n",
    " - Walc - употребление алкоголя в выходные (от 1 - очень редко до 5 - очень часто)\n",
    " - health - текущее состояние здоровья (от 1 - очень плохое до 5 - очень хорошее)\n",
    " - absences - количество школьных пропусков (от 0 до 93)\n",
    "\n",
    "Признаки ниже связаны с курсом (математика/португальский)\n",
    " - G1 - оценка за первый семестр (от 0 до 20)\n",
    " - G2 - оценка за второй семестр (от 0 до 20)\n",
    " - [целевая переменная] G3 - итоговая оценка (от 0 до 20)"
   ]
  },
  {
   "cell_type": "markdown",
   "metadata": {},
   "source": [
    "**(0.5 балла)** Какое количество признаков есть в данной задаче (целевая переменная не является признаком)?"
   ]
  },
  {
   "cell_type": "code",
   "execution_count": 4,
   "metadata": {},
   "outputs": [
    {
     "name": "stdout",
     "output_type": "stream",
     "text": [
      "32\n"
     ]
    }
   ],
   "source": [
    "######################\n",
    "### YOUR CODE HERE ###\n",
    "######################\n",
    "print(int(data.columns.size)-1)"
   ]
  },
  {
   "cell_type": "markdown",
   "metadata": {},
   "source": [
    "Вычитаем 1, так как одна колонка данных соответствует G3, а она является не признаком, а целевой переменной."
   ]
  },
  {
   "cell_type": "markdown",
   "metadata": {},
   "source": [
    "**(1 балл)** Определите к какому из указанных ниже типов относится каждый признак:\n",
    " - бинарный\n",
    " - числовой\n",
    " - категориальный\n",
    " - порядковый\n",
    " - множественный\n",
    "\n",
    "Если признаков некоторого типа нет, укажите это."
   ]
  },
  {
   "cell_type": "markdown",
   "metadata": {},
   "source": [
    "Бинарные: school, sex, address, famsize, Pstatus, schoolsup, famsup, paid, activities, nursery, higher, internet, romantic\n",
    "\n",
    "Числовые: age, absences, G1, G2\n",
    "\n",
    "Порядковые: Medu (почему-то вначале про образование в лекциях говорилось, что категориальный), но я считаю, это скорее порядковый признак), Fedu, traveltime, studytime, failures (он явно неправильно определен, т.к. бывает и 0, а 4 вообще не бывает), famrel, freetime, goout, Dalc, Walc, health\n",
    "\n",
    "Категориальные: Mjob, Fjob, reason, guardian\n",
    "\n",
    "Множественных признаков нет."
   ]
  },
  {
   "cell_type": "code",
   "execution_count": 5,
   "metadata": {},
   "outputs": [
    {
     "name": "stdout",
     "output_type": "stream",
     "text": [
      "    school sex  age address famsize Pstatus  Medu  Fedu      Mjob      Fjob  \\\n",
      "0       GP   F   18       U     GT3       A     4     4   at_home   teacher   \n",
      "1       GP   F   17       U     GT3       T     1     1   at_home     other   \n",
      "2       GP   F   15       U     LE3       T     1     1   at_home     other   \n",
      "3       GP   F   15       U     GT3       T     4     2    health  services   \n",
      "4       GP   F   16       U     GT3       T     3     3     other     other   \n",
      "5       GP   M   16       U     LE3       T     4     3  services     other   \n",
      "6       GP   M   16       U     LE3       T     2     2     other     other   \n",
      "7       GP   F   17       U     GT3       A     4     4     other   teacher   \n",
      "8       GP   M   15       U     LE3       A     3     2  services     other   \n",
      "9       GP   M   15       U     GT3       T     3     4     other     other   \n",
      "10      GP   F   15       U     GT3       T     4     4   teacher    health   \n",
      "11      GP   F   15       U     GT3       T     2     1  services     other   \n",
      "12      GP   M   15       U     LE3       T     4     4    health  services   \n",
      "13      GP   M   15       U     GT3       T     4     3   teacher     other   \n",
      "14      GP   M   15       U     GT3       A     2     2     other     other   \n",
      "15      GP   F   16       U     GT3       T     4     4    health     other   \n",
      "16      GP   F   16       U     GT3       T     4     4  services  services   \n",
      "17      GP   F   16       U     GT3       T     3     3     other     other   \n",
      "19      GP   M   16       U     LE3       T     4     3    health     other   \n",
      "20      GP   M   15       U     GT3       T     4     3   teacher     other   \n",
      "21      GP   M   15       U     GT3       T     4     4    health    health   \n",
      "22      GP   M   16       U     LE3       T     4     2   teacher     other   \n",
      "23      GP   M   16       U     LE3       T     2     2     other     other   \n",
      "24      GP   F   15       R     GT3       T     2     4  services    health   \n",
      "25      GP   F   16       U     GT3       T     2     2  services  services   \n",
      "26      GP   M   15       U     GT3       T     2     2     other     other   \n",
      "27      GP   M   15       U     GT3       T     4     2    health  services   \n",
      "28      GP   M   16       U     LE3       A     3     4  services     other   \n",
      "29      GP   M   16       U     GT3       T     4     4   teacher   teacher   \n",
      "30      GP   M   15       U     GT3       T     4     4    health  services   \n",
      "..     ...  ..  ...     ...     ...     ...   ...   ...       ...       ...   \n",
      "614     MS   F   17       R     GT3       T     4     4   teacher  services   \n",
      "615     MS   F   17       U     LE3       A     3     2  services     other   \n",
      "616     MS   M   18       U     LE3       T     1     1     other  services   \n",
      "617     MS   F   18       U     LE3       T     1     1   at_home  services   \n",
      "618     MS   F   18       R     LE3       A     1     2   at_home     other   \n",
      "619     MS   F   18       U     GT3       T     3     3  services  services   \n",
      "620     MS   F   17       U     LE3       T     4     4   at_home   at_home   \n",
      "621     MS   F   17       R     GT3       T     1     2     other  services   \n",
      "622     MS   M   18       R     GT3       T     1     3   at_home     other   \n",
      "623     MS   M   18       U     LE3       T     4     4   teacher  services   \n",
      "625     MS   F   18       U     GT3       T     2     3   at_home  services   \n",
      "626     MS   F   18       R     GT3       T     4     4     other   teacher   \n",
      "627     MS   M   18       R     LE3       T     1     2   at_home  services   \n",
      "628     MS   F   17       U     GT3       T     2     2     other   at_home   \n",
      "629     MS   F   17       R     GT3       T     1     2     other     other   \n",
      "630     MS   F   18       R     LE3       T     4     4     other     other   \n",
      "631     MS   F   18       R     GT3       T     1     1     other     other   \n",
      "633     MS   F   18       R     LE3       T     4     4   teacher  services   \n",
      "634     MS   F   18       U     GT3       T     3     3     other     other   \n",
      "635     MS   F   17       R     GT3       T     3     1   at_home     other   \n",
      "636     MS   M   18       U     GT3       T     4     4   teacher   teacher   \n",
      "637     MS   M   18       R     GT3       T     2     1     other     other   \n",
      "638     MS   M   17       U     GT3       T     2     3     other  services   \n",
      "641     MS   F   18       R     GT3       T     2     2   at_home     other   \n",
      "642     MS   F   17       U     GT3       T     4     3   teacher     other   \n",
      "643     MS   F   18       R     GT3       T     4     4   teacher   at_home   \n",
      "645     MS   F   18       U     LE3       T     3     1   teacher  services   \n",
      "646     MS   F   18       U     GT3       T     1     1     other     other   \n",
      "647     MS   M   17       U     LE3       T     3     1  services  services   \n",
      "648     MS   M   18       R     LE3       T     3     2  services     other   \n",
      "\n",
      "    ... famrel freetime  goout  Dalc  Walc health absences  G1  G2  G3  \n",
      "0   ...      4        3      4     1     1      3        4   0  11  11  \n",
      "1   ...      5        3      3     1     1      3        2   9  11  11  \n",
      "2   ...      4        3      2     2     3      3        6  12  13  12  \n",
      "3   ...      3        2      2     1     1      5        0  14  14  14  \n",
      "4   ...      4        3      2     1     2      5        0  11  13  13  \n",
      "5   ...      5        4      2     1     2      5        6  12  12  13  \n",
      "6   ...      4        4      4     1     1      3        0  13  12  13  \n",
      "7   ...      4        1      4     1     1      1        2  10  13  13  \n",
      "8   ...      4        2      2     1     1      1        0  15  16  17  \n",
      "9   ...      5        5      1     1     1      5        0  12  12  13  \n",
      "10  ...      3        3      3     1     2      2        2  14  14  14  \n",
      "11  ...      5        2      2     1     1      4        0  10  12  13  \n",
      "12  ...      4        3      3     1     3      5        0  12  13  12  \n",
      "13  ...      5        4      3     1     2      3        0  12  12  13  \n",
      "14  ...      4        5      2     1     1      3        0  14  14  15  \n",
      "15  ...      4        4      4     1     2      2        6  17  17  17  \n",
      "16  ...      3        2      3     1     2      2       10  13  13  14  \n",
      "17  ...      5        3      2     1     1      4        2  13  14  14  \n",
      "19  ...      3        1      3     1     3      5        6  12  12  12  \n",
      "20  ...      4        4      1     1     1      1        0  12  13  14  \n",
      "21  ...      5        4      2     1     1      5        0  11  12  12  \n",
      "22  ...      4        5      1     1     3      5        0  12  13  14  \n",
      "23  ...      5        4      4     2     4      5        2  10  10  10  \n",
      "24  ...      4        3      2     1     1      5        2  10  11  10  \n",
      "25  ...      1        2      2     1     3      5        6  10  11  12  \n",
      "26  ...      4        2      2     1     2      5        8  11  12  12  \n",
      "27  ...      2        2      4     2     4      1        0  11  11  11  \n",
      "28  ...      5        3      3     1     1      5        2  12  12  13  \n",
      "29  ...      4        4      5     5     5      5        4  12  11  12  \n",
      "30  ...      5        4      2     3     4      5        0  10  11  11  \n",
      "..  ...    ...      ...    ...   ...   ...    ...      ...  ..  ..  ..  \n",
      "614 ...      4        3      3     1     2      5        2  12  12  12  \n",
      "615 ...      1        2      3     1     2      5        0  15  14  15  \n",
      "616 ...      3        3      2     1     2      3        2  14  13  14  \n",
      "617 ...      5        3      2     1     1      4        0  19  17  18  \n",
      "618 ...      4        3      4     1     4      5        0  16  15  15  \n",
      "619 ...      4        3      2     1     3      3        6  13  12  13  \n",
      "620 ...      2        3      4     1     1      1        4  15  14  15  \n",
      "621 ...      3        2      2     1     2      3        0  13  13  13  \n",
      "622 ...      3        3      4     2     4      3        0   8  10   9  \n",
      "623 ...      4        2      2     2     2      5        0  15  16  16  \n",
      "625 ...      5        2      3     1     2      4        0  10  10  10  \n",
      "626 ...      3        2      2     4     2      5        0   7   5   0  \n",
      "627 ...      4        3      3     2     3      3        3   9  10  10  \n",
      "628 ...      3        4      3     1     1      3        8  10  11  12  \n",
      "629 ...      3        5      5     1     3      1        4   7   8   9  \n",
      "630 ...      5        4      4     1     1      1        0  15  17  17  \n",
      "631 ...      4        3      2     1     2      4        4  10  11  12  \n",
      "633 ...      5        4      3     3     4      2        1  13  14  14  \n",
      "634 ...      4        1      3     1     2      1        1  16  16  16  \n",
      "635 ...      4        5      4     2     3      1       10   8   9   9  \n",
      "636 ...      3        2      4     1     4      2        4  17  18  19  \n",
      "637 ...      4        4      3     1     3      5        0   7   7   0  \n",
      "638 ...      4        4      3     1     1      3        4  14  15  16  \n",
      "641 ...      5        3      3     1     3      4        0  14  17  15  \n",
      "642 ...      5        5      4     1     1      1        0   6   9  11  \n",
      "643 ...      4        4      3     2     2      5        4   7   9  10  \n",
      "645 ...      4        3      4     1     1      1        4  15  15  16  \n",
      "646 ...      1        1      1     1     1      5        6  11  12   9  \n",
      "647 ...      2        4      5     3     4      2        6  10  10  10  \n",
      "648 ...      4        4      1     3     4      5        4  10  11  11  \n",
      "\n",
      "[549 rows x 33 columns]\n",
      "    school sex  age address famsize Pstatus  Medu  Fedu      Mjob      Fjob  \\\n",
      "44      GP   F   16       U     LE3       T     2     2     other   at_home   \n",
      "112     GP   F   16       U     GT3       T     2     2   at_home     other   \n",
      "118     GP   M   17       R     GT3       T     1     3     other     other   \n",
      "137     GP   F   16       U     GT3       A     2     2     other     other   \n",
      "148     GP   F   15       R     GT3       T     1     1     other     other   \n",
      "158     GP   F   15       U     GT3       T     3     2    health  services   \n",
      "164     GP   M   16       U     LE3       T     2     1   at_home     other   \n",
      "172     GP   M   16       U     GT3       T     3     3     other  services   \n",
      "174     GP   M   17       R     LE3       T     2     1   at_home     other   \n",
      "177     GP   M   16       U     GT3       T     1     3   at_home  services   \n",
      "184     GP   M   16       U     GT3       T     3     4     other     other   \n",
      "212     GP   F   17       U     GT3       T     4     4  services   teacher   \n",
      "219     GP   F   17       U     GT3       T     3     4   at_home  services   \n",
      "253     GP   F   18       U     LE3       A     2     4  services     other   \n",
      "254     GP   F   18       U     LE3       T     2     2   at_home  services   \n",
      "255     GP   F   18       U     GT3       T     3     3     other     other   \n",
      "256     GP   M   18       U     GT3       T     2     2     other   at_home   \n",
      "262     GP   F   17       R     LE3       A     1     4     other     other   \n",
      "264     GP   F   17       U     LE3       A     2     2     other     other   \n",
      "283     GP   M   16       U     GT3       T     3     3   at_home     other   \n",
      "287     GP   M   17       U     LE3       T     1     1    health     other   \n",
      "291     GP   M   18       U     LE3       T     2     1  services     other   \n",
      "320     GP   F   18       U     GT3       T     4     4    health    health   \n",
      "322     GP   F   19       R     GT3       T     3     2  services  services   \n",
      "350     GP   M   19       R     LE3       T     2     1   at_home  services   \n",
      "405     GP   F   19       U     LE3       A     2     3   at_home     other   \n",
      "406     GP   F   17       U     GT3       T     3     1     other   at_home   \n",
      "415     GP   F   19       U     GT3       T     4     4   teacher     other   \n",
      "421     GP   F   20       U     GT3       T     1     0     other     other   \n",
      "425     MS   F   15       R     GT3       T     1     1   at_home  services   \n",
      "..     ...  ..  ...     ...     ...     ...   ...   ...       ...       ...   \n",
      "489     MS   M   18       R     GT3       T     1     1     other     other   \n",
      "490     MS   F   18       R     GT3       T     1     1   at_home   at_home   \n",
      "491     MS   F   19       U     GT3       T     1     1     other     other   \n",
      "497     MS   M   17       U     GT3       T     3     3  services   at_home   \n",
      "500     MS   M   17       U     GT3       T     1     2     other     other   \n",
      "502     MS   M   17       R     LE3       T     2     2  services  services   \n",
      "506     MS   F   20       U     GT3       T     3     3   at_home  services   \n",
      "508     MS   M   17       R     GT3       T     2     2     other     other   \n",
      "512     MS   F   18       R     GT3       T     1     1   at_home     other   \n",
      "518     MS   F   18       U     GT3       A     2     4     other  services   \n",
      "545     MS   M   17       U     GT3       T     3     4  services     other   \n",
      "559     MS   M   18       R     GT3       T     1     0   at_home   at_home   \n",
      "563     MS   M   17       U     GT3       T     2     2     other     other   \n",
      "566     MS   M   18       R     GT3       T     1     1  services     other   \n",
      "567     MS   M   18       R     GT3       T     3     2  services     other   \n",
      "574     MS   M   20       R     GT3       T     1     1     other     other   \n",
      "577     MS   M   19       R     GT3       T     1     1     other  services   \n",
      "578     MS   M   17       U     GT3       T     3     3    health     other   \n",
      "580     MS   M   19       R     GT3       T     1     1     other     other   \n",
      "583     MS   F   18       R     GT3       T     2     2     other     other   \n",
      "587     MS   F   18       R     LE3       T     2     2  services  services   \n",
      "597     MS   F   18       R     GT3       T     2     2   at_home     other   \n",
      "604     MS   F   18       U     GT3       T     1     1   at_home  services   \n",
      "605     MS   F   19       U     GT3       T     1     1   at_home  services   \n",
      "612     MS   M   17       R     GT3       T     4     3  services     other   \n",
      "624     MS   F   17       R     GT3       T     1     1     other  services   \n",
      "632     MS   F   19       R     GT3       T     1     1   at_home     other   \n",
      "639     MS   M   19       R     GT3       T     1     1     other  services   \n",
      "640     MS   M   18       R     GT3       T     4     2     other     other   \n",
      "644     MS   F   19       R     GT3       T     2     3  services     other   \n",
      "\n",
      "    ... famrel freetime  goout  Dalc  Walc health absences  G1  G2  G3  \n",
      "44  ...      4        3      3     2     2      5       14  10  11  11  \n",
      "112 ...      3        1      2     1     1      5       12   8  10  10  \n",
      "118 ...      5        2      4     1     4      5       14  12  11  11  \n",
      "137 ...      5        3      4     1     1      5       12  13  11  11  \n",
      "148 ...      5        5      5     1     1      1        2   8   9   9  \n",
      "158 ...      3        3      2     1     1      3        2  11  11  11  \n",
      "164 ...      4        4      4     3     5      5        6   9  10  10  \n",
      "172 ...      4        5      5     4     4      5        0  10  10   1  \n",
      "174 ...      3        3      2     2     2      5        8   8   8   9  \n",
      "177 ...      5        3      3     1     4      2        2   9   8   8  \n",
      "184 ...      3        4      5     2     4      2        4   9   9  10  \n",
      "212 ...      4        2      4     2     3      2       30  14  15  16  \n",
      "219 ...      4        4      3     3     4      5       14   8   9   8  \n",
      "253 ...      4        3      3     1     1      3       18  10  10  10  \n",
      "254 ...      5        3      1     1     1      5       16   9   8  10  \n",
      "255 ...      4        1      1     1     1      3       14   8   7   7  \n",
      "256 ...      4        4      3     2     2      1       26   7   8   8  \n",
      "262 ...      5        5      4     1     1      5       14   9   9   8  \n",
      "264 ...      3        1      2     1     1      1        8  11   9  10  \n",
      "283 ...      5        3      3     1     3      2        4   9  11  10  \n",
      "287 ...      4        4      4     1     2      5        0   9  10  10  \n",
      "291 ...      4        4      5     4     4      5        4  11  10  11  \n",
      "320 ...      2        4      4     1     1      4        2  14  12  13  \n",
      "322 ...      3        3      3     4     3      3        0   9   8  10  \n",
      "350 ...      4        3      1     1     1      5        0   9  10  11  \n",
      "405 ...      2        2      3     3     4      5       16  10  11  11  \n",
      "406 ...      4        1      2     1     1      3        6  10  13  13  \n",
      "415 ...      3        2      5     4     4      5        5   9  10  11  \n",
      "421 ...      5        3      1     1     1      5        5   8  10  10  \n",
      "425 ...      4        1      3     1     1      2        6  10  10  10  \n",
      "..  ...    ...      ...    ...   ...   ...    ...      ...  ..  ..  ..  \n",
      "489 ...      4        4      3     3     4      4        0   8   9  10  \n",
      "490 ...      3        2      3     1     1      2        4   9  11  10  \n",
      "491 ...      1        1      4     4     1      1       12   7   8   9  \n",
      "497 ...      5        4      5     3     4      5        0  10  11  10  \n",
      "500 ...      5        3      5     5     5      1       12   6   7   7  \n",
      "502 ...      1        3      5     3     5      3        2  10   8   9  \n",
      "506 ...      3        3      4     2     4      3        8  11   9  10  \n",
      "508 ...      4        4      5     1     2      5        0  10   9   9  \n",
      "512 ...      4        3      2     1     1      5        9   7   7   7  \n",
      "518 ...      2        3      2     1     3      1        8   8   5   8  \n",
      "545 ...      5        4      4     3     4      5        8   8   9   8  \n",
      "559 ...      4        3      2     1     1      4        0  12  12  13  \n",
      "563 ...      1        2      1     2     3      5        0   7   0   0  \n",
      "566 ...      5        3      3     2     3      5        2   9   7   9  \n",
      "567 ...      2        3      1     2     2      5        0   4   0   0  \n",
      "574 ...      4        4      3     2     4      4       12   8  11  10  \n",
      "577 ...      5        4      4     3     3      2        8  10   9  11  \n",
      "578 ...      4        5      4     2     3      3        4   8   9  10  \n",
      "580 ...      4        4      4     3     3      5        4   8   9  10  \n",
      "583 ...      5        5      5     1     1      3        0   8   6   0  \n",
      "587 ...      2        3      3     1     2      4        3   7   6   8  \n",
      "597 ...      4        3      3     1     1      4        0   9   0   0  \n",
      "604 ...      4        4      2     1     2      2        2   9  10  10  \n",
      "605 ...      5        5      5     2     3      2        0   5   0   0  \n",
      "612 ...      4        5      5     1     3      2        4  10  11  11  \n",
      "624 ...      5        2      1     1     2      1        0   8   8   9  \n",
      "632 ...      4        3      3     1     1      3        4   7   8   9  \n",
      "639 ...      4        3      2     1     3      5        0   5   8   0  \n",
      "640 ...      5        4      3     4     3      3        0   7   7   0  \n",
      "644 ...      5        4      2     1     2      5        4  10  11  10  \n",
      "\n",
      "[70 rows x 33 columns]\n",
      "    school sex  age address famsize Pstatus  Medu  Fedu      Mjob      Fjob  \\\n",
      "127     GP   F   19       U     GT3       T     0     1   at_home     other   \n",
      "146     GP   M   16       U     LE3       T     1     1  services     other   \n",
      "163     GP   M   18       U     LE3       T     1     1     other     other   \n",
      "173     GP   M   16       U     LE3       T     1     2    health  services   \n",
      "175     GP   M   17       R     GT3       T     3     2     other     other   \n",
      "284     GP   M   18       U     GT3       T     2     1  services  services   \n",
      "351     GP   M   20       U     GT3       A     3     2  services     other   \n",
      "370     GP   F   19       U     LE3       A     1     1     other     other   \n",
      "407     GP   F   21       U     LE3       T     4     4     other     other   \n",
      "413     GP   M   21       R     LE3       T     1     1   at_home     other   \n",
      "487     MS   F   18       R     LE3       A     3     2     other     other   \n",
      "552     MS   M   19       U     GT3       T     1     1     other     other   \n",
      "569     MS   M   18       U     GT3       T     3     3   at_home   at_home   \n",
      "572     MS   F   16       U     GT3       A     3     2  services   at_home   \n",
      "581     MS   F   18       U     GT3       A     1     2   at_home     other   \n",
      "590     MS   F   18       U     GT3       T     1     1     other     other   \n",
      "\n",
      "    ... famrel freetime  goout  Dalc  Walc health absences  G1  G2  G3  \n",
      "127 ...      3        4      2     1     1      5        0   9  10  11  \n",
      "146 ...      4        4      4     1     3      5        0  10  10  10  \n",
      "163 ...      2        3      5     2     5      4        0  11   9   0  \n",
      "173 ...      4        4      5     3     5      5        0   9   8  10  \n",
      "175 ...      4        4      4     1     4      3        4   7   6   8  \n",
      "284 ...      3        2      5     2     5      5        4   7   8   6  \n",
      "351 ...      5        5      3     1     1      5        0  14  15  15  \n",
      "370 ...      5        3      4     1     1      4        2   8   8   9  \n",
      "407 ...      3        3      2     1     1      5        0   9  12  12  \n",
      "413 ...      5        3      3     5     2      4       21   9  10  10  \n",
      "487 ...      3        3      2     1     1      2        6   7   9  10  \n",
      "552 ...      4        4      3     3     4      4        2   9   9  10  \n",
      "569 ...      4        4      5     1     3      3        9   4   8   8  \n",
      "572 ...      2        5      5     1     1      1        8   5   5   7  \n",
      "581 ...      4        3      3     1     1      5        2   6   8   8  \n",
      "590 ...      3        4      4     2     2      5        3   7   8   7  \n",
      "\n",
      "[16 rows x 33 columns]\n",
      "    school sex  age address famsize Pstatus  Medu  Fedu      Mjob      Fjob  \\\n",
      "18      GP   M   17       U     GT3       T     3     2  services  services   \n",
      "78      GP   M   17       U     GT3       T     2     1     other     other   \n",
      "131     GP   F   18       U     GT3       T     2     1  services     other   \n",
      "169     GP   M   17       R     LE3       T     1     2     other     other   \n",
      "170     GP   F   18       R     GT3       T     1     1   at_home     other   \n",
      "179     GP   M   17       U     GT3       T     3     2  services  services   \n",
      "237     GP   M   18       U     GT3       T     2     2     other     other   \n",
      "279     GP   M   22       U     GT3       T     3     1  services  services   \n",
      "478     MS   F   16       R     GT3       T     1     1   at_home     other   \n",
      "543     MS   M   17       R     GT3       T     4     4    health     other   \n",
      "557     MS   F   17       R     GT3       T     3     1     other     other   \n",
      "568     MS   M   19       U     GT3       T     3     2   at_home  services   \n",
      "571     MS   M   19       U     GT3       T     2     1   at_home     other   \n",
      "610     MS   F   19       R     GT3       A     1     1   at_home   at_home   \n",
      "\n",
      "    ... famrel freetime  goout  Dalc  Walc health absences  G1  G2  G3  \n",
      "18  ...      5        5      5     2     4      5        2   8   8   7  \n",
      "78  ...      4        5      1     1     1      3        0   9   9  10  \n",
      "131 ...      5        4      5     1     3      5       10  10   9   8  \n",
      "169 ...      2        2      2     3     3      5       14   9   8  10  \n",
      "170 ...      5        2      5     1     5      4        6  11  10  11  \n",
      "179 ...      4        5      2     1     1      2       10   8   7   8  \n",
      "237 ...      3        3      3     5     5      4        9  10   9  10  \n",
      "279 ...      5        4      5     5     5      1       12   7   8   5  \n",
      "478 ...      3        4      3     1     1      1        0   7   7   8  \n",
      "543 ...      3        3      3     1     3      5        2   9   9   8  \n",
      "557 ...      5        4      4     1     1      5        2   7   9  10  \n",
      "568 ...      3        2      1     1     1      3        4   6  11   9  \n",
      "571 ...      4        4      3     1     3      5        4   8   9   9  \n",
      "610 ...      3        5      4     1     4      1        0   8   0   0  \n",
      "\n",
      "[14 rows x 33 columns]\n",
      "Empty DataFrame\n",
      "Columns: [school, sex, age, address, famsize, Pstatus, Medu, Fedu, Mjob, Fjob, reason, guardian, traveltime, studytime, failures, schoolsup, famsup, paid, activities, nursery, higher, internet, romantic, famrel, freetime, goout, Dalc, Walc, health, absences, G1, G2, G3]\n",
      "Index: []\n",
      "\n",
      "[0 rows x 33 columns]\n"
     ]
    }
   ],
   "source": [
    "# проверяем, какие бывают значения у data.failures:\n",
    "print(data[data.failures == 0])\n",
    "print(data[data.failures == 1])\n",
    "print(data[data.failures == 2])\n",
    "print(data[data.failures == 3])\n",
    "print(data[data.failures == 4])"
   ]
  },
  {
   "cell_type": "markdown",
   "metadata": {},
   "source": [
    "**(0.5 балла)** Есть ли в данных пропуски? Если да, назовите какие признаки имеют пропуски и удалите все объекты с пропусками. "
   ]
  },
  {
   "cell_type": "code",
   "execution_count": 6,
   "metadata": {},
   "outputs": [
    {
     "name": "stdout",
     "output_type": "stream",
     "text": [
      "0\n"
     ]
    }
   ],
   "source": [
    "no_space = data.dropna(axis='index')\n",
    "print(data.index.size - no_space.index.size) # кол-во учеников с пропусками в данных"
   ]
  },
  {
   "cell_type": "markdown",
   "metadata": {},
   "source": [
    "Как мы видим, команда ничего не выбросила, т.е. пропусков в данных нет вообще."
   ]
  },
  {
   "cell_type": "markdown",
   "metadata": {},
   "source": [
    "**(1 балл)** Теперь посмотрите на целевую переменную. К какому типу задач относится данная? Поясните свой ответ."
   ]
  },
  {
   "cell_type": "markdown",
   "metadata": {
    "collapsed": true
   },
   "source": [
    "Целевая переменная G3 принимает целые значения от 0 до 20, и мы пытаемся предсказать ее (в пределах некоторой погрешности), в зависимости от значений признаков, различных для каждого школьника, поэтому это задача линейной регрессии."
   ]
  },
  {
   "cell_type": "markdown",
   "metadata": {},
   "source": [
    "**(1 балл)** Постройте гистограмму значений целевой переменной с количеством бинов (bins) равным 20. Какое самое частое значение? Есть ли студенты, получившие 0? 20? Постройте аналогичные гистограммы для признаков G1 и G2. Есть ли различие между ними и целевой переменной и в чем оно состоит?"
   ]
  },
  {
   "cell_type": "code",
   "execution_count": 7,
   "metadata": {},
   "outputs": [
    {
     "data": {
      "text/plain": [
       "<matplotlib.axes._subplots.AxesSubplot at 0x7f96e80>"
      ]
     },
     "execution_count": 7,
     "metadata": {},
     "output_type": "execute_result"
    },
    {
     "data": {
      "image/png": "[encoded data removed]",
      "text/plain": [
       "<matplotlib.figure.Figure at 0x7c185c0>"
      ]
     },
     "metadata": {},
     "output_type": "display_data"
    },
    {
     "data": {
      "image/png": "[encoded data removed]",
      "text/plain": [
       "<matplotlib.figure.Figure at 0x7c1a588>"
      ]
     },
     "metadata": {},
     "output_type": "display_data"
    },
    {
     "data": {
      "image/png": "[encoded data removed]",
      "text/plain": [
       "<matplotlib.figure.Figure at 0x8806dd8>"
      ]
     },
     "metadata": {},
     "output_type": "display_data"
    }
   ],
   "source": [
    "######################\n",
    "### YOUR CODE HERE ###\n",
    "######################\n",
    "plt.figure();\n",
    "data['G3'].hist(bins=20);\n",
    "# Чаще всего встречается значение 11. Есть много студентов, которые получили 0, 20 ни у кого нет. \n",
    "plt.figure();\n",
    "data['G1'].hist(bins=20);\n",
    "plt.figure();\n",
    "data['G2'].hist(bins=20);\n",
    "# G1 от G2 почти не отличается (у G2 гораздо больше 0, видимо, во втором семестре оценки выставляли строже)\n",
    "# У целевой переменной G3 еще больше 0, чем у G2, и по неизвестной причине наблюдается провал при итоговой оценке 12.\n",
    "# Каких-то серьезных отличий между G3 и G1,G2 (например, если бы у нескольких студентов было 20), не наблюдается."
   ]
  },
  {
   "cell_type": "markdown",
   "metadata": {},
   "source": [
    "**(1 балл)** Посчитайте корреляцию Пирсона между целевой переменной и значениями G1 и G2. Можно ли сказать, что между ними есть линейная зависимость? Для вычисления корреляции Пирсона можно воспользоваться функцией [pearsonr](http://docs.scipy.org/doc/scipy/reference/generated/scipy.stats.pearsonr.html) из модуля scipy.stats или методом [corr](http://pandas.pydata.org/pandas-docs/stable/generated/pandas.DataFrame.corr.html) датафрейма."
   ]
  },
  {
   "cell_type": "code",
   "execution_count": 8,
   "metadata": {},
   "outputs": [
    {
     "name": "stdout",
     "output_type": "stream",
     "text": [
      "          G1        G2\n",
      "G1  1.000000  0.864982\n",
      "G2  0.864982  1.000000\n"
     ]
    }
   ],
   "source": [
    "######################\n",
    "### YOUR CODE HERE ###\n",
    "######################\n",
    "pair=data[['G1','G2']]\n",
    "print(pair.corr(method='pearson'))"
   ]
  },
  {
   "cell_type": "markdown",
   "metadata": {},
   "source": [
    "Видно, что коэффициент (0,86) по модулю близок к единице (-1 и 1 означают линейную зависимость, в случае -1 - зависимость обратная, в случае с +1 - зависимость прямая), однако, так как он ей не равен, именно линейной зависимости между G1 и G2 нет."
   ]
  },
  {
   "cell_type": "markdown",
   "metadata": {},
   "source": [
    "**(0.5 балла)** Найдите самую частую причину выбора школы."
   ]
  },
  {
   "cell_type": "code",
   "execution_count": 9,
   "metadata": {},
   "outputs": [
    {
     "name": "stdout",
     "output_type": "stream",
     "text": [
      "course\n"
     ]
    }
   ],
   "source": [
    "######################\n",
    "### YOUR CODE HERE ###\n",
    "######################\n",
    "r = data.groupby('reason', sort = False).reason\n",
    "print(r.value_counts().idxmax()[0])"
   ]
  },
  {
   "cell_type": "markdown",
   "metadata": {},
   "source": [
    "Поэтому самая частая причина выбора школы - наличие в ней определенных курсов."
   ]
  },
  {
   "cell_type": "markdown",
   "metadata": {},
   "source": [
    "**(1 балл)** В данных есть несколько интересных признаков. Например, школа. Постройте на одной гистограмме распределение целевой переменной в зависимости от школы. Верно или нет, что у студенты одной школы имеют оценки выше, чем другой? Кроме того, интересно также узнать, сказывается ли причина выборка школы на оценках. Постройте аналогичную гистограмму для тех, у кого в поле причины указана самая частая причина (она должна быть найдена в предыдущем пункте) и всех остальных. Верно ли, что студенты, выбравшие данную школу по этой причине более успешны?\n",
    "\n",
    "(Примеры как можно строить такие гистограммы можно посмотреть в материалах к семинарам или [здесь](http://matplotlib.org/examples/statistics/histogram_demo_multihist.html) и [здесь](http://stackoverflow.com/questions/6871201/plot-two-histograms-at-the-same-time-with-matplotlib)). "
   ]
  },
  {
   "cell_type": "code",
   "execution_count": 10,
   "metadata": {},
   "outputs": [
    {
     "data": {
      "text/plain": [
       "<matplotlib.legend.Legend at 0x93281d0>"
      ]
     },
     "execution_count": 10,
     "metadata": {},
     "output_type": "execute_result"
    },
    {
     "data": {
      "image/png": "[encoded data removed]",
      "text/plain": [
       "<matplotlib.figure.Figure at 0x8bc0ef0>"
      ]
     },
     "metadata": {},
     "output_type": "display_data"
    },
    {
     "data": {
      "image/png": "[encoded data removed]",
      "text/plain": [
       "<matplotlib.figure.Figure at 0x8bc8320>"
      ]
     },
     "metadata": {},
     "output_type": "display_data"
    }
   ],
   "source": [
    "######################\n",
    "### YOUR CODE HERE ###\n",
    "######################\n",
    "main_reason = data.groupby('reason', sort = False).reason.value_counts().idxmax()[0]\n",
    "\n",
    "plt.figure()\n",
    "plt.hist([data[data.school == 'GP']['G3'], data[data.school == 'MS']['G3']], bins=20, normed=1, histtype='bar', \n",
    "         label = ['Gabriel Pereira', 'Mousinho Silveira'])\n",
    "plt.legend(loc = 'upper left')\n",
    "plt.figure()\n",
    "plt.hist([data[data.reason == main_reason]['G3'], data[data.school != main_reason]['G3']], bins=20, normed=1, histtype='bar', \n",
    "         label = ['course', 'smth else'])\n",
    "plt.legend(loc = 'upper left')"
   ]
  },
  {
   "cell_type": "markdown",
   "metadata": {},
   "source": [
    "Даже на первый взгляд из гистограмм все видно: студенты Gabriel Pereira учатся лучше, чем студенты Mousinho da Silveira; те, кто поступил в школу из-за наличия определенных предметов (по причине 'course'), учатся в среднем хуже, чем остальные (у них больше низких оценок и меньше высоких). Так что, видимо, они менее успешны (в учебе (по португальскому языку))."
   ]
  },
  {
   "cell_type": "markdown",
   "metadata": {},
   "source": [
    "**(0.5 балла)** Сделайте описание числовых признаков: какое среднее, медиана, дисперсия, минимальное и максимальное значение. Для всех ли признаков эти величины имеют смысл? Если нашлись такие признаки, то поясните почему."
   ]
  },
  {
   "cell_type": "code",
   "execution_count": 11,
   "metadata": {},
   "outputs": [
    {
     "data": {
      "text/html": [
       "<div>\n",
       "<table border=\"1\" class=\"dataframe\">\n",
       "  <thead>\n",
       "    <tr style=\"text-align: right;\">\n",
       "      <th></th>\n",
       "      <th>age</th>\n",
       "      <th>Medu</th>\n",
       "      <th>Fedu</th>\n",
       "      <th>traveltime</th>\n",
       "      <th>studytime</th>\n",
       "      <th>failures</th>\n",
       "      <th>famrel</th>\n",
       "      <th>freetime</th>\n",
       "      <th>goout</th>\n",
       "      <th>Dalc</th>\n",
       "      <th>Walc</th>\n",
       "      <th>health</th>\n",
       "      <th>absences</th>\n",
       "      <th>G1</th>\n",
       "      <th>G2</th>\n",
       "      <th>G3</th>\n",
       "    </tr>\n",
       "  </thead>\n",
       "  <tbody>\n",
       "    <tr>\n",
       "      <th>count</th>\n",
       "      <td>649.000000</td>\n",
       "      <td>649.000000</td>\n",
       "      <td>649.000000</td>\n",
       "      <td>649.000000</td>\n",
       "      <td>649.000000</td>\n",
       "      <td>649.000000</td>\n",
       "      <td>649.000000</td>\n",
       "      <td>649.000000</td>\n",
       "      <td>649.000000</td>\n",
       "      <td>649.000000</td>\n",
       "      <td>649.000000</td>\n",
       "      <td>649.000000</td>\n",
       "      <td>649.000000</td>\n",
       "      <td>649.000000</td>\n",
       "      <td>649.000000</td>\n",
       "      <td>649.000000</td>\n",
       "    </tr>\n",
       "    <tr>\n",
       "      <th>mean</th>\n",
       "      <td>16.744222</td>\n",
       "      <td>2.514638</td>\n",
       "      <td>2.306626</td>\n",
       "      <td>1.568567</td>\n",
       "      <td>1.930663</td>\n",
       "      <td>0.221880</td>\n",
       "      <td>3.930663</td>\n",
       "      <td>3.180277</td>\n",
       "      <td>3.184900</td>\n",
       "      <td>1.502311</td>\n",
       "      <td>2.280431</td>\n",
       "      <td>3.536210</td>\n",
       "      <td>3.659476</td>\n",
       "      <td>11.399076</td>\n",
       "      <td>11.570108</td>\n",
       "      <td>11.906009</td>\n",
       "    </tr>\n",
       "    <tr>\n",
       "      <th>std</th>\n",
       "      <td>1.218138</td>\n",
       "      <td>1.134552</td>\n",
       "      <td>1.099931</td>\n",
       "      <td>0.748660</td>\n",
       "      <td>0.829510</td>\n",
       "      <td>0.593235</td>\n",
       "      <td>0.955717</td>\n",
       "      <td>1.051093</td>\n",
       "      <td>1.175766</td>\n",
       "      <td>0.924834</td>\n",
       "      <td>1.284380</td>\n",
       "      <td>1.446259</td>\n",
       "      <td>4.640759</td>\n",
       "      <td>2.745265</td>\n",
       "      <td>2.913639</td>\n",
       "      <td>3.230656</td>\n",
       "    </tr>\n",
       "    <tr>\n",
       "      <th>min</th>\n",
       "      <td>15.000000</td>\n",
       "      <td>0.000000</td>\n",
       "      <td>0.000000</td>\n",
       "      <td>1.000000</td>\n",
       "      <td>1.000000</td>\n",
       "      <td>0.000000</td>\n",
       "      <td>1.000000</td>\n",
       "      <td>1.000000</td>\n",
       "      <td>1.000000</td>\n",
       "      <td>1.000000</td>\n",
       "      <td>1.000000</td>\n",
       "      <td>1.000000</td>\n",
       "      <td>0.000000</td>\n",
       "      <td>0.000000</td>\n",
       "      <td>0.000000</td>\n",
       "      <td>0.000000</td>\n",
       "    </tr>\n",
       "    <tr>\n",
       "      <th>25%</th>\n",
       "      <td>16.000000</td>\n",
       "      <td>2.000000</td>\n",
       "      <td>1.000000</td>\n",
       "      <td>1.000000</td>\n",
       "      <td>1.000000</td>\n",
       "      <td>0.000000</td>\n",
       "      <td>4.000000</td>\n",
       "      <td>3.000000</td>\n",
       "      <td>2.000000</td>\n",
       "      <td>1.000000</td>\n",
       "      <td>1.000000</td>\n",
       "      <td>2.000000</td>\n",
       "      <td>0.000000</td>\n",
       "      <td>10.000000</td>\n",
       "      <td>10.000000</td>\n",
       "      <td>10.000000</td>\n",
       "    </tr>\n",
       "    <tr>\n",
       "      <th>50%</th>\n",
       "      <td>17.000000</td>\n",
       "      <td>2.000000</td>\n",
       "      <td>2.000000</td>\n",
       "      <td>1.000000</td>\n",
       "      <td>2.000000</td>\n",
       "      <td>0.000000</td>\n",
       "      <td>4.000000</td>\n",
       "      <td>3.000000</td>\n",
       "      <td>3.000000</td>\n",
       "      <td>1.000000</td>\n",
       "      <td>2.000000</td>\n",
       "      <td>4.000000</td>\n",
       "      <td>2.000000</td>\n",
       "      <td>11.000000</td>\n",
       "      <td>11.000000</td>\n",
       "      <td>12.000000</td>\n",
       "    </tr>\n",
       "    <tr>\n",
       "      <th>75%</th>\n",
       "      <td>18.000000</td>\n",
       "      <td>4.000000</td>\n",
       "      <td>3.000000</td>\n",
       "      <td>2.000000</td>\n",
       "      <td>2.000000</td>\n",
       "      <td>0.000000</td>\n",
       "      <td>5.000000</td>\n",
       "      <td>4.000000</td>\n",
       "      <td>4.000000</td>\n",
       "      <td>2.000000</td>\n",
       "      <td>3.000000</td>\n",
       "      <td>5.000000</td>\n",
       "      <td>6.000000</td>\n",
       "      <td>13.000000</td>\n",
       "      <td>13.000000</td>\n",
       "      <td>14.000000</td>\n",
       "    </tr>\n",
       "    <tr>\n",
       "      <th>max</th>\n",
       "      <td>22.000000</td>\n",
       "      <td>4.000000</td>\n",
       "      <td>4.000000</td>\n",
       "      <td>4.000000</td>\n",
       "      <td>4.000000</td>\n",
       "      <td>3.000000</td>\n",
       "      <td>5.000000</td>\n",
       "      <td>5.000000</td>\n",
       "      <td>5.000000</td>\n",
       "      <td>5.000000</td>\n",
       "      <td>5.000000</td>\n",
       "      <td>5.000000</td>\n",
       "      <td>32.000000</td>\n",
       "      <td>19.000000</td>\n",
       "      <td>19.000000</td>\n",
       "      <td>19.000000</td>\n",
       "    </tr>\n",
       "  </tbody>\n",
       "</table>\n",
       "</div>"
      ],
      "text/plain": [
       "              age        Medu        Fedu  traveltime   studytime    failures  \\\n",
       "count  649.000000  649.000000  649.000000  649.000000  649.000000  649.000000   \n",
       "mean    16.744222    2.514638    2.306626    1.568567    1.930663    0.221880   \n",
       "std      1.218138    1.134552    1.099931    0.748660    0.829510    0.593235   \n",
       "min     15.000000    0.000000    0.000000    1.000000    1.000000    0.000000   \n",
       "25%     16.000000    2.000000    1.000000    1.000000    1.000000    0.000000   \n",
       "50%     17.000000    2.000000    2.000000    1.000000    2.000000    0.000000   \n",
       "75%     18.000000    4.000000    3.000000    2.000000    2.000000    0.000000   \n",
       "max     22.000000    4.000000    4.000000    4.000000    4.000000    3.000000   \n",
       "\n",
       "           famrel    freetime       goout        Dalc        Walc      health  \\\n",
       "count  649.000000  649.000000  649.000000  649.000000  649.000000  649.000000   \n",
       "mean     3.930663    3.180277    3.184900    1.502311    2.280431    3.536210   \n",
       "std      0.955717    1.051093    1.175766    0.924834    1.284380    1.446259   \n",
       "min      1.000000    1.000000    1.000000    1.000000    1.000000    1.000000   \n",
       "25%      4.000000    3.000000    2.000000    1.000000    1.000000    2.000000   \n",
       "50%      4.000000    3.000000    3.000000    1.000000    2.000000    4.000000   \n",
       "75%      5.000000    4.000000    4.000000    2.000000    3.000000    5.000000   \n",
       "max      5.000000    5.000000    5.000000    5.000000    5.000000    5.000000   \n",
       "\n",
       "         absences          G1          G2          G3  \n",
       "count  649.000000  649.000000  649.000000  649.000000  \n",
       "mean     3.659476   11.399076   11.570108   11.906009  \n",
       "std      4.640759    2.745265    2.913639    3.230656  \n",
       "min      0.000000    0.000000    0.000000    0.000000  \n",
       "25%      0.000000   10.000000   10.000000   10.000000  \n",
       "50%      2.000000   11.000000   11.000000   12.000000  \n",
       "75%      6.000000   13.000000   13.000000   14.000000  \n",
       "max     32.000000   19.000000   19.000000   19.000000  "
      ]
     },
     "execution_count": 11,
     "metadata": {},
     "output_type": "execute_result"
    }
   ],
   "source": [
    "######################\n",
    "### YOUR CODE HERE ###\n",
    "######################\n",
    "data.describe()"
   ]
  },
  {
   "cell_type": "markdown",
   "metadata": {},
   "source": [
    "Понятно, что для порядковых признаков describe передает меньше новой информации, однако мы все равно можем узнать из этого что-то новое (правда, иногда только медианы - квантиля 50% бывает не совсем достаточно, как в случае с failures), среднее же для подавляющего большинства порядковых признаков вообще ничего не показывает, можно только понять какую-то совсем общую картину. Для числовых же все лучше - теперь мы знаем среднюю оценку за семестр и средний возраст учащихся (и видно, что на самом деле большинство студентов -- несовершеннолетние)."
   ]
  },
  {
   "cell_type": "markdown",
   "metadata": {},
   "source": [
    "**(0.75 балла)** Верно ли, что студенты имеющие больше 10 пропусков учатся хуже, чем все остальные? На этот вопрос вы можете ответить, посмотрев на данные любым удобным для вас способом (например, аналогично предыдущим пунктам, либо сравнив средние оценки и т.д.). "
   ]
  },
  {
   "cell_type": "code",
   "execution_count": 12,
   "metadata": {},
   "outputs": [
    {
     "name": "stdout",
     "output_type": "stream",
     "text": [
      "10.653061224489797 12.008333333333333\n"
     ]
    }
   ],
   "source": [
    "######################\n",
    "### YOUR CODE HERE ###\n",
    "######################\n",
    "truants_mark = data[data.absences > 10].G3\n",
    "nerds_mark = data[data.absences <= 10].G3\n",
    "print(truants_mark.mean(), nerds_mark.mean())"
   ]
  },
  {
   "cell_type": "markdown",
   "metadata": {},
   "source": [
    "Ну, хоть прогульщики и получили в среднем за португальский на полтора балла меньше в итоге, может, они тратили свое время на что-то более полезное лично для них?... Немного хуже учатся, совсем чуть-чуть."
   ]
  },
  {
   "cell_type": "markdown",
   "metadata": {},
   "source": [
    "**(0.75 балла)** Верно ли, что студенты желающие получить высшее образование учатся лучше, чем все остальные? "
   ]
  },
  {
   "cell_type": "code",
   "execution_count": 13,
   "metadata": {},
   "outputs": [
    {
     "name": "stdout",
     "output_type": "stream",
     "text": [
      "8.797101449275363 12.275862068965518\n"
     ]
    }
   ],
   "source": [
    "######################\n",
    "### YOUR CODE HERE ###\n",
    "######################\n",
    "no_goal = data[data.higher == 'no']\n",
    "have_goal = data[data.higher == 'yes']\n",
    "print(no_goal.G3.mean(), have_goal.G3.mean())"
   ]
  },
  {
   "cell_type": "markdown",
   "metadata": {},
   "source": [
    "Видно, что те, кто хочет получить высшее образование, получили итоговые оценки по португальскому гораздо выше, чем все остальные студенты."
   ]
  },
  {
   "cell_type": "markdown",
   "metadata": {},
   "source": [
    "**(1 балл)** Выберете признаки из не рассмотренных ранее. Какие на ваш взгляд влияют на итоговую оценку? Попробуйте найти закономерности, аналогичные рассмотренным (\"студенты желающие получить высшее образование учатся лучше, чем все остальные\")."
   ]
  },
  {
   "cell_type": "code",
   "execution_count": 26,
   "metadata": {},
   "outputs": [
    {
     "name": "stdout",
     "output_type": "stream",
     "text": [
      "12.2532637075718 11.406015037593985\n",
      "11.905096660808436 11.9125\n",
      "12.251366120218579 11.577464788732394 11.166666666666666 10.875\n",
      "12.130208333333334 11.811816192560174\n",
      "13.13888888888889 13.0625 12.147058823529411 11.044444444444444 11.670542635658915\n"
     ]
    }
   ],
   "source": [
    "######################\n",
    "### YOUR CODE HERE ###\n",
    "######################\n",
    "#traveltime \n",
    "girls = data[data.sex == 'F']\n",
    "boys = data[data.sex == 'M']\n",
    "print(girls.G3.mean(), boys.G3.mean())\n",
    "\n",
    "p_together = data[data.Pstatus == 'T']\n",
    "p_along = data[data.Pstatus == 'A']\n",
    "print(p_together.G3.mean(), p_along.G3.mean())\n",
    "\n",
    "close = data[data.traveltime == 1]\n",
    "far = data[data.traveltime == 2]\n",
    "really_far = data[data.traveltime == 3]\n",
    "oh_what = data[data.traveltime == 4]\n",
    "print(close.G3.mean(), far.G3.mean(), really_far.G3.mean(), oh_what.G3.mean())\n",
    "\n",
    "yes = data[data.famsize == 'LE3']\n",
    "no = data[data.famsize == 'GT3']\n",
    "print(yes.G3.mean(), no.G3.mean())\n",
    "\n",
    "one = data[data.Mjob == 'teacher']\n",
    "two = data[data.Mjob == 'health']\n",
    "three = data[data.Mjob == 'services']\n",
    "four = data[data.Mjob == 'at_home']\n",
    "five = data[data.Mjob == 'other']\n",
    "print(one.G3.mean(), two.G3.mean(), three.G3.mean(), four.G3.mean(), five.G3.mean())"
   ]
  },
  {
   "cell_type": "markdown",
   "metadata": {},
   "source": [
    "Девочки учатся немного лучше, чем мальчики (примерно балл итоговой оценки), отношения родителей практически не влияют на оценку.\n",
    "\n",
    "И последнее: Чем ближе живет студент к школе, тем выше его средний балл. Влияет даже сильнее, чем первый рассмотренный признак - достигается разница, в среднем, в полтора балла итоговой оценки за португальский язык."
   ]
  },
  {
   "cell_type": "code",
   "execution_count": 27,
   "metadata": {},
   "outputs": [
    {
     "ename": "NameError",
     "evalue": "name 'Ridge' is not defined",
     "output_type": "error",
     "traceback": [
      "\u001b[1;31m---------------------------------------------------------------------------\u001b[0m",
      "\u001b[1;31mNameError\u001b[0m                                 Traceback (most recent call last)",
      "\u001b[1;32m<ipython-input-27-d60ad1feb079>\u001b[0m in \u001b[0;36m<module>\u001b[1;34m()\u001b[0m\n\u001b[1;32m----> 1\u001b[1;33m \u001b[0mregressors\u001b[0m \u001b[1;33m=\u001b[0m \u001b[1;33m[\u001b[0m\u001b[0mRidge\u001b[0m\u001b[1;33m(\u001b[0m\u001b[1;33m)\u001b[0m\u001b[1;33m,\u001b[0m \u001b[0mLasso\u001b[0m\u001b[1;33m(\u001b[0m\u001b[1;33m)\u001b[0m\u001b[1;33m,\u001b[0m \u001b[0mKNeighborsRegressor\u001b[0m\u001b[1;33m(\u001b[0m\u001b[1;33m)\u001b[0m\u001b[1;33m,\u001b[0m \u001b[0mDecisionTreeRegressor\u001b[0m\u001b[1;33m(\u001b[0m\u001b[1;33m)\u001b[0m\u001b[1;33m,\u001b[0m \u001b[0mRandomForestRegressor\u001b[0m\u001b[1;33m(\u001b[0m\u001b[1;33m)\u001b[0m\u001b[1;33m]\u001b[0m\u001b[1;33m\u001b[0m\u001b[0m\n\u001b[0m\u001b[0;32m      2\u001b[0m \u001b[1;31m#сразу составим массив из регрессоров, поскольку потом нам придется использовать сразу все по очереди\u001b[0m\u001b[1;33m\u001b[0m\u001b[1;33m\u001b[0m\u001b[0m\n",
      "\u001b[1;31mNameError\u001b[0m: name 'Ridge' is not defined"
     ]
    }
   ],
   "source": [
    "regressors = [Ridge(), Lasso(), KNeighborsRegressor(), DecisionTreeRegressor(), RandomForestRegressor()]\n",
    "#сразу составим массив из регрессоров, поскольку потом нам придется использовать сразу все по очереди"
   ]
  },
  {
   "cell_type": "code",
   "execution_count": null,
   "metadata": {
    "collapsed": true
   },
   "outputs": [],
   "source": [
    "ridge_alpha = np.arange(10, 40, 0.5)\n",
    "lasso_alpha = np.arange(0.01, 0.1, 0.004)\n",
    "n_neighbours = np.arange(3, 33, 2)\n",
    "min_samples_leaf = np.arange(10, 65, 3)\n",
    "n_estimators = np.arange(10, 50, 2)\n",
    "\n",
    "parameters = [ridge_alpha, lasso_alpha, n_neighbours, min_samples_leaf, n_estimators]"
   ]
  },
  {
   "cell_type": "code",
   "execution_count": null,
   "metadata": {
    "collapsed": true
   },
   "outputs": [],
   "source": [
    "# теперь найдем нужные гиперпараметры\n",
    "for i in range(len(regressors)):\n",
    "    regressor = regressors[i]\n",
    "    parameter = parameters[i]\n",
    "    grid_search = GridSearchCV(regressor, parameter, cv=5)\n",
    "    grid_search.fit(data_start_features, data_start_target)\n",
    "    print(grid_search.best_params_)\n",
    "    # в исходном массиве с регрессорами заменим каждый элемент на соответствующий регрессор с найденным\n",
    "    # значением гиперпараметра\n",
    "    regressors[i] = grid_search.best_estimator_"
   ]
  }
 ],
 "metadata": {
  "kernelspec": {
   "display_name": "Python 3",
   "language": "python",
   "name": "python3"
  },
  "language_info": {
   "codemirror_mode": {
    "name": "ipython",
    "version": 3
   },
   "file_extension": ".py",
   "mimetype": "text/x-python",
   "name": "python",
   "nbconvert_exporter": "python",
   "pygments_lexer": "ipython3",
   "version": "3.7.3"
  }
 },
 "nbformat": 4,
 "nbformat_minor": 1
}
