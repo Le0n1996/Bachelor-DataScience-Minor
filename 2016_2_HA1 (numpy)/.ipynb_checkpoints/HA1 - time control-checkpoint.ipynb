{
 "cells": [
  {
   "cell_type": "markdown",
   "metadata": {},
   "source": [
    "При решении пользовался pythonworld, habrahabr, 100 задач по numpy, Алгоритмы на C++ Роберт Седжвик (переделывал под питон)."
   ]
  },
  {
   "cell_type": "markdown",
   "metadata": {},
   "source": [
    "Задача 1"
   ]
  },
  {
   "cell_type": "code",
   "execution_count": 2,
   "metadata": {},
   "outputs": [
    {
     "name": "stdout",
     "output_type": "stream",
     "text": [
      "23\n",
      "1\n",
      "[1 1 1 1 1 1 1 1 1 1 1 1 1 1 1 1 1 1 1 1 1 1 1]\n"
     ]
    }
   ],
   "source": [
    "import numpy as np\n",
    "def cycle_vec(N,k):\n",
    "    a = list(range(1,k+1))*(N//k)+list(range(1,N%k+1))\n",
    "    return np.array(a)\n",
    "print(cycle_vec(int(input()), int(input())))"
   ]
  },
  {
   "cell_type": "code",
   "execution_count": 3,
   "metadata": {},
   "outputs": [],
   "source": [
    "import numpy as np\n",
    "def cycle_nonvec(N,k):\n",
    "    if N>k:\n",
    "        a = list(range(1,k+1))\n",
    "        for i in range(N-k):\n",
    "            a = a + [i%k+1]\n",
    "    else:\n",
    "        a = list(range(1,N+1))\n",
    "    return np.array(a)"
   ]
  },
  {
   "cell_type": "code",
   "execution_count": 4,
   "metadata": {},
   "outputs": [
    {
     "data": {
      "text/plain": [
       "<Figure size 640x480 with 1 Axes>"
      ]
     },
     "metadata": {},
     "output_type": "display_data"
    }
   ],
   "source": [
    "import matplotlib.pyplot as plt\n",
    "import timeit as t\n",
    "import random\n",
    "plt.plot([0, 1, 2, 3], [min(t.Timer(lambda: cycle_vec(10, 4)).repeat(1000, 1)),\\\n",
    "                        min(t.Timer(lambda: cycle_vec(100, 14)).repeat(1000, 1)),\\\n",
    "                        min(t.Timer(lambda: cycle_vec(300, 14)).repeat(1000, 1)),\\\n",
    "                        min(t.Timer(lambda: cycle_vec(500, 101)).repeat(1000, 1))], 'ro',\\\n",
    "         [0, 1, 2, 3], [min(t.Timer(lambda: cycle_nonvec(10, 4)).repeat(1000, 1)),\\\n",
    "                        min(t.Timer(lambda: cycle_nonvec(100, 14)).repeat(1000, 1)),\\\n",
    "                        min(t.Timer(lambda: cycle_nonvec(300, 14)).repeat(1000, 1)),\\\n",
    "                        min(t.Timer(lambda: cycle_nonvec(500, 101)).repeat(1000, 1))], 'bs')\n",
    "plt.axis([0, 3, 0, 10*10**(-4)])\n",
    "plt.xlabel('test')\n",
    "plt.ylabel('time')\n",
    "plt.show()"
   ]
  },
  {
   "cell_type": "markdown",
   "metadata": {},
   "source": [
    "Задача 2"
   ]
  },
  {
   "cell_type": "code",
   "execution_count": 5,
   "metadata": {},
   "outputs": [],
   "source": [
    "import numpy as np\n",
    "def next_diagonal_vec(X):\n",
    "    N = X.shape[0]\n",
    "    a = np.vstack((np.eye(N, dtype=np.integer)*X, np.zeros((1, N), dtype=np.integer)))\n",
    "    a = np.hstack((np.zeros((N+1, 1), dtype=np.integer), a))\n",
    "    return a "
   ]
  },
  {
   "cell_type": "code",
   "execution_count": 6,
   "metadata": {},
   "outputs": [],
   "source": [
    "def next_diagonal_nonvec(X):\n",
    "    N = len(X)\n",
    "    a = np.zeros((N+1, N+1), dtype=np.integer)\n",
    "    for i in range(N):\n",
    "        a[i, i+1] = X[i]\n",
    "    return a"
   ]
  },
  {
   "cell_type": "code",
   "execution_count": 7,
   "metadata": {},
   "outputs": [
    {
     "data": {
      "image/png": "[encoded data removed]",
      "text/plain": [
       "<Figure size 432x288 with 1 Axes>"
      ]
     },
     "metadata": {
      "needs_background": "light"
     },
     "output_type": "display_data"
    }
   ],
   "source": [
    "plt.plot([0, 1, 2, 3], [min(t.Timer(lambda: next_diagonal_vec(np.arange(0,10))).repeat(1000, 1)),\\\n",
    "                        min(t.Timer(lambda: next_diagonal_vec(np.arange(0,100))).repeat(1000, 1)),\\\n",
    "                        min(t.Timer(lambda: next_diagonal_vec(np.arange(0,200))).repeat(1000, 1)),\\\n",
    "                        min(t.Timer(lambda: next_diagonal_vec(np.arange(0,300))).repeat(1000, 1))], 'ro',\\\n",
    "         [0, 1, 2, 3], [min(t.Timer(lambda: next_diagonal_nonvec(np.arange(0,10))).repeat(1000, 1)),\\\n",
    "                        min(t.Timer(lambda: next_diagonal_nonvec(np.arange(0,100))).repeat(1000, 1)),\\\n",
    "                        min(t.Timer(lambda: next_diagonal_nonvec(np.arange(0,200))).repeat(1000, 1)),\\\n",
    "                        min(t.Timer(lambda: next_diagonal_nonvec(np.arange(0,300))).repeat(1000, 1))], 'bs')\n",
    "plt.axis([0, 3, 0, 10**(-3)])\n",
    "plt.xlabel('test')\n",
    "plt.ylabel('time')\n",
    "plt.show()"
   ]
  },
  {
   "cell_type": "markdown",
   "metadata": {},
   "source": [
    "Задача 3"
   ]
  },
  {
   "cell_type": "code",
   "execution_count": 8,
   "metadata": {},
   "outputs": [],
   "source": [
    "def get_elements_nonvec(X, i, j):\n",
    "    N = len(i)\n",
    "    a = []\n",
    "    for k in range(N):\n",
    "        a.append(X[i[k], j[k]])\n",
    "    return np.array(a)"
   ]
  },
  {
   "cell_type": "code",
   "execution_count": 9,
   "metadata": {},
   "outputs": [],
   "source": [
    "def get_elements_vec(X, i, j):\n",
    "    res = np.column_stack((i, j))\n",
    "    a = X[res[:,0], res[:,1]]\n",
    "    return a"
   ]
  },
  {
   "cell_type": "code",
   "execution_count": 10,
   "metadata": {},
   "outputs": [
    {
     "data": {
      "image/png": "[encoded data removed]",
      "text/plain": [
       "<Figure size 432x288 with 1 Axes>"
      ]
     },
     "metadata": {
      "needs_background": "light"
     },
     "output_type": "display_data"
    }
   ],
   "source": [
    "plt.plot([1, 2, 3, 4], [min(t.Timer(lambda: get_elements_vec(np.arange(0,10).reshape((2, 5)), np.arange(0,2), np.arange(2,4))).repeat(1000, 1)),\\\n",
    "                    min(t.Timer(lambda: get_elements_vec(np.arange(0,100).reshape((10, 10)), np.arange(0,6), np.arange(3,9))).repeat(1000, 1)),\\\n",
    "                    min(t.Timer(lambda: get_elements_vec(np.arange(0, 200).reshape((10, 20)), np.arange(0,7), np.arange(10,17))).repeat(1000, 1)),\\\n",
    "                    min(t.Timer(lambda: get_elements_vec(np.arange(0,300).reshape((10, 30)), np.arange(0,10), np.arange(15,25))).repeat(1000, 1))], 'ro',\\\n",
    "         [1, 2, 3, 4], [min(t.Timer(lambda: get_elements_nonvec(np.arange(0,10).reshape((2, 5)), np.arange(0,2), np.arange(2,4))).repeat(1000, 1)),\\\n",
    "                    min(t.Timer(lambda: get_elements_nonvec(np.arange(0,100).reshape((10, 10)), np.arange(0,6), np.arange(3,9))).repeat(1000, 1)),\\\n",
    "                    min(t.Timer(lambda: get_elements_nonvec(np.arange(0,200).reshape((10, 20)), np.arange(0,7), np.arange(10,17))).repeat(1000, 1)),\\\n",
    "                    min(t.Timer(lambda: get_elements_nonvec(np.arange(0,300).reshape((10, 30)), np.arange(0,10), np.arange(15,25))).repeat(1000, 1))], 'bs')\n",
    "plt.axis([0, 4, 0, 10**(-4)])\n",
    "plt.xlabel('test')\n",
    "plt.ylabel('time')\n",
    "plt.show()"
   ]
  },
  {
   "cell_type": "markdown",
   "metadata": {},
   "source": [
    "Задача 4"
   ]
  },
  {
   "cell_type": "code",
   "execution_count": 11,
   "metadata": {},
   "outputs": [],
   "source": [
    "def min_postzero_nonvec(X):\n",
    "    N = len(X)\n",
    "    f = True\n",
    "    min = 0\n",
    "    for i in range(N-1):\n",
    "        if (X[i] == 0) and (X[i+1] != 0) and f:\n",
    "            f = False\n",
    "            min = X[i+1]\n",
    "        elif (X[i] == 0) and (X[i+1] != 0) and (min > X[i+1]):\n",
    "            min = X[i+1]\n",
    "    return min"
   ]
  },
  {
   "cell_type": "code",
   "execution_count": 12,
   "metadata": {},
   "outputs": [],
   "source": [
    "def min_postzero_vec(X):\n",
    "    K = X[np.insert((X==0), 0, False)[0:len(X)]]\n",
    "    if len(K[np.nonzero(K)]) != 0:\n",
    "        return K[np.nonzero(K)].min()"
   ]
  },
  {
   "cell_type": "code",
   "execution_count": 13,
   "metadata": {},
   "outputs": [
    {
     "data": {
      "image/png": "[encoded data removed]",
      "text/plain": [
       "<Figure size 432x288 with 1 Axes>"
      ]
     },
     "metadata": {
      "needs_background": "light"
     },
     "output_type": "display_data"
    }
   ],
   "source": [
    "plt.plot([1, 2, 3, 4], [sum(t.Timer(lambda: min_postzero_vec(np.random.randint(10, size=(10, 1)))).repeat(1000, 1))*10**(-3),\\\n",
    "                        sum(t.Timer(lambda: min_postzero_vec(np.random.randint(10, size=(100, 1)))).repeat(1000, 1))*10**(-3),\\\n",
    "                        sum(t.Timer(lambda: min_postzero_vec(np.random.randint(10, size=(300, 1)))).repeat(1000, 1))*10**(-3),\\\n",
    "                        sum(t.Timer(lambda: min_postzero_vec(np.random.randint(10, size=(500, 1)))).repeat(1000, 1))*10**(-3)], 'ro',\\\n",
    "         [1, 2, 3, 4], [sum(t.Timer(lambda: min_postzero_nonvec(np.random.randint(10, size=(10, 1)))).repeat(1000, 1))*10**(-3),\\\n",
    "                        sum(t.Timer(lambda: min_postzero_nonvec(np.random.randint(10, size=(100, 1)))).repeat(1000, 1))*10**(-3),\\\n",
    "                        sum(t.Timer(lambda: min_postzero_nonvec(np.random.randint(10, size=(300, 1)))).repeat(1000, 1))*10**(-3),\\\n",
    "                        sum(t.Timer(lambda: min_postzero_nonvec(np.random.randint(10, size=(500, 1)))).repeat(1000, 1))*10**(-3)], 'bs')\n",
    "plt.axis([0, 5, 0, 3*10**(-3)])\n",
    "plt.xlabel('test')\n",
    "plt.ylabel('time')\n",
    "plt.show()"
   ]
  },
  {
   "cell_type": "markdown",
   "metadata": {},
   "source": [
    "Задача 5"
   ]
  },
  {
   "cell_type": "code",
   "execution_count": 14,
   "metadata": {},
   "outputs": [],
   "source": [
    "def nearest_value_nonvec(X, v):\n",
    "    min = X[0,0]\n",
    "    a = abs(min-v)\n",
    "    for i in range(len(X)):\n",
    "        for j in range(len(X[0])):\n",
    "            if a > abs(X[i,j]-v):\n",
    "                min = X[i,j]\n",
    "                a = abs(X[i,j]-v)\n",
    "    return min\n"
   ]
  },
  {
   "cell_type": "code",
   "execution_count": 15,
   "metadata": {},
   "outputs": [],
   "source": [
    "def nearest_value_vec(X, v):\n",
    "    Y = abs(X - v*np.ones(X.shape))\n",
    "    min = Y.min()\n",
    "    res = X[np.logical_or(X+min == v, X-min == v)]\n",
    "    return res[0]"
   ]
  },
  {
   "cell_type": "code",
   "execution_count": 16,
   "metadata": {},
   "outputs": [
    {
     "data": {
      "image/png": "[encoded data removed]",
      "text/plain": [
       "<Figure size 432x288 with 1 Axes>"
      ]
     },
     "metadata": {
      "needs_background": "light"
     },
     "output_type": "display_data"
    }
   ],
   "source": [
    "plt.plot([1, 2, 3, 4], [min(t.Timer(lambda: nearest_value_vec(np.arange(0,10).reshape((2, 5)), 1)).repeat(1000, 1)),\\\n",
    "                        min(t.Timer(lambda: nearest_value_vec(np.arange(0,100).reshape((10, 10)), 2)).repeat(1000, 1)),\\\n",
    "                        min(t.Timer(lambda: nearest_value_vec(np.arange(0,200).reshape((10, 20)), 3)).repeat(1000, 1)),\\\n",
    "                        min(t.Timer(lambda: nearest_value_vec(np.arange(0,300).reshape((20, 15)), 4)).repeat(1000, 1))], 'ro',\\\n",
    "         [1, 2, 3, 4], [min(t.Timer(lambda: nearest_value_nonvec(np.arange(0,10).reshape((2, 5)), 1)).repeat(1000, 1)),\\\n",
    "                        min(t.Timer(lambda: nearest_value_nonvec(np.arange(0,100).reshape((10, 10)), 2)).repeat(1000, 1)),\\\n",
    "                        min(t.Timer(lambda: nearest_value_nonvec(np.arange(0,200).reshape((10, 20)), 3)).repeat(1000, 1)),\\\n",
    "                        min(t.Timer(lambda: nearest_value_nonvec(np.arange(0,300).reshape((20, 15)), 4)).repeat(1000, 1))], 'bs')\n",
    "plt.axis([0, 5, 0, 2*10**(-3)])\n",
    "plt.xlabel('test')\n",
    "plt.ylabel('time')\n",
    "plt.show()"
   ]
  },
  {
   "cell_type": "markdown",
   "metadata": {},
   "source": [
    "Задача 6"
   ]
  },
  {
   "cell_type": "code",
   "execution_count": 17,
   "metadata": {},
   "outputs": [
    {
     "name": "stdout",
     "output_type": "stream",
     "text": [
      "[1.4142135623730951, 4.242640687119285, 1.4142135623730951, 1.4142135623730951]\n"
     ]
    }
   ],
   "source": [
    "import math\n",
    "def euclidean_nonvec(x,y):\n",
    "    n = len(x)\n",
    "    m = len(y)\n",
    "    d = len(y[0])\n",
    "    mas = []\n",
    "    sum = 0\n",
    "    for i in range (n):\n",
    "        for j in range (m):\n",
    "            for k in range (d):\n",
    "                sum = sum + (x[i][k]-y[j][k])**2\n",
    "            mas.append(math.sqrt(sum))\n",
    "            sum = 0\n",
    "    return mas\n",
    "x=[[1,2],[3,4]]\n",
    "y=[[2,3],[4,5]]\n",
    "print (euclidean_nonvec(x,y))"
   ]
  },
  {
   "cell_type": "code",
   "execution_count": 18,
   "metadata": {},
   "outputs": [],
   "source": [
    "import numpy as np\n",
    "import math\n",
    "def euclidean_vec(x,y):\n",
    "    n=x.shape[0]\n",
    "    m=y.shape[0]\n",
    "    d=y.shape[1]\n",
    "    z=np.tile(x,m)\n",
    "    z=z.reshape(n*m,d)\n",
    "    t=np.tile(y,(n,1))\n",
    "    mas = z-t\n",
    "    mas1=mas**2\n",
    "    mas2=mas1.sum(axis=1)\n",
    "    mas3=np.sqrt(mas2)\n",
    "    return(mas3)"
   ]
  },
  {
   "cell_type": "code",
   "execution_count": 19,
   "metadata": {},
   "outputs": [
    {
     "data": {
      "image/png": "[encoded data removed]",
      "text/plain": [
       "<Figure size 432x288 with 1 Axes>"
      ]
     },
     "metadata": {
      "needs_background": "light"
     },
     "output_type": "display_data"
    }
   ],
   "source": [
    "plt.plot([1, 2, 3, 4], [min(t.Timer(lambda: euclidean_vec(np.arange(0,10).reshape((2, 5)), np.arange(0,20).reshape((4, 5)))).repeat(1000, 1)),\\\n",
    "                        min(t.Timer(lambda: euclidean_vec(np.arange(0,100).reshape((10, 10)), np.arange(0,100).reshape((10, 10)))).repeat(1000, 1)),\\\n",
    "                        min(t.Timer(lambda: euclidean_vec(np.arange(0,200).reshape((10, 20)), np.arange(0,200).reshape((10, 20)))).repeat(1000, 1)),\\\n",
    "                        min(t.Timer(lambda: euclidean_vec(np.arange(0,300).reshape((20, 15)), np.arange(0,300).reshape((20, 15)))).repeat(1000, 1))], 'ro',\\\n",
    "         [1, 2, 3, 4], [min(t.Timer(lambda: euclidean_nonvec(np.arange(0,10).reshape((2, 5)), np.arange(0,20).reshape((4, 5)))).repeat(1000, 1)),\\\n",
    "                        min(t.Timer(lambda: euclidean_nonvec(np.arange(0,100).reshape((10, 10)), np.arange(0,100).reshape((10, 10)))).repeat(1000, 1)),\\\n",
    "                        min(t.Timer(lambda: euclidean_nonvec(np.arange(0,200).reshape((10, 20)), np.arange(0,200).reshape((10, 20)))).repeat(1000, 1)),\\\n",
    "                        min(t.Timer(lambda: euclidean_nonvec(np.arange(0,300).reshape((20, 15)), np.arange(0,300).reshape((20, 15)))).repeat(1000, 1))], 'bs')\n",
    "plt.axis([0, 5, 0, 10*10**(-3)])\n",
    "plt.xlabel('test')\n",
    "plt.ylabel('time')\n",
    "plt.show()"
   ]
  },
  {
   "cell_type": "markdown",
   "metadata": {
    "collapsed": true
   },
   "source": [
    "Как мы можем видеть, почти всегда циклы работают дольше. Для маленьких объемов данных цикл работают даже быстрее иногда, но для больших объемов (например 6 задача) их использовать не выгодно."
   ]
  },
  {
   "cell_type": "code",
   "execution_count": null,
   "metadata": {},
   "outputs": [],
   "source": []
  },
  {
   "cell_type": "code",
   "execution_count": null,
   "metadata": {
    "collapsed": true
   },
   "outputs": [],
   "source": []
  }
 ],
 "metadata": {
  "kernelspec": {
   "display_name": "Python 3",
   "language": "python",
   "name": "python3"
  },
  "language_info": {
   "codemirror_mode": {
    "name": "ipython",
    "version": 3
   },
   "file_extension": ".py",
   "mimetype": "text/x-python",
   "name": "python",
   "nbconvert_exporter": "python",
   "pygments_lexer": "ipython3",
   "version": "3.7.3"
  }
 },
 "nbformat": 4,
 "nbformat_minor": 1
}
