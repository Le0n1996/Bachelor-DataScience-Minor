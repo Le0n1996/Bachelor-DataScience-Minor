{
 "cells": [
  {
   "cell_type": "markdown",
   "metadata": {},
   "source": [
    "**Задание:**\n",
    "\n",
    "**1.** Разбейте выборку случайным образом на обучение и конроль (train_test_split из sklearn). В обучение попадает 30% выборки, в контроль 70%.\n",
    "Разбейте контроль в отношении 4:3. Большая часть - контрольная выборка, которой вы будете пользоваться. Меньшая часть - скрытый контроль - используется только в последнем пункте.\n",
    "\n",
    "**2.** Задача сводится к предсказанию целевого признака G3 (не используя признаки G1 и G2) по обучающей выборке.\n",
    "С учетом предыдущей части проекта определитесь с пространством признаков, с которым вы будете работать.\n",
    "Можно генерировать новые признаки из уже существующих.\n",
    "\n",
    "**3.** Обратите внимание, что задачу можно рассматривать как задачу классификации, а можно - как задачу регрессии.\n",
    "Настроить как минимум 5 различных классификаторов, подобрать гиперпараметры для каждого с помощью кросс-валидации.\n",
    "Построить графики зависимости качества на кросс-валидации от значений гиперпараметров.\n",
    "\n",
    "**4.** Оценить качество классификаторов на контроле (например, в качестве функционала ошибок можно использовать RMSE). Выбрать наилучший.\n",
    "\n",
    "**5.** Рассмотреть простые композиции алгоритмов (хотя бы 2), проверить их качество.\n",
    "\n",
    "**6.** Выбрать финальный классификатор, посчитать качество на скрытом контроле.\n",
    "\n",
    "**7.** Сделать выводы"
   ]
  },
  {
   "cell_type": "code",
   "execution_count": 85,
   "metadata": {
    "collapsed": true
   },
   "outputs": [],
   "source": [
    "import numpy as np\n",
    "import pandas as pd\n",
    "import matplotlib.pyplot as plt\n",
    "from sklearn.metrics import mean_squared_error as mse\n",
    "from sklearn.cross_validation import train_test_split\n",
    "\n",
    "from sklearn.linear_model import Ridge, Lasso\n",
    "from sklearn.neighbors import KNeighborsRegressor\n",
    "from sklearn.ensemble import RandomForestRegressor\n",
    "from sklearn.tree import DecisionTreeRegressor\n",
    "\n",
    "from sklearn.grid_search import GridSearchCV\n",
    "from sklearn.learning_curve import validation_curve\n",
    "\n",
    "%matplotlib inline"
   ]
  },
  {
   "cell_type": "markdown",
   "metadata": {},
   "source": [
    "**1:**"
   ]
  },
  {
   "cell_type": "code",
   "execution_count": 86,
   "metadata": {
    "collapsed": false
   },
   "outputs": [
    {
     "name": "stdout",
     "output_type": "stream",
     "text": [
      "  school sex  age address famsize Pstatus  Medu  Fedu     Mjob     Fjob ...  \\\n",
      "0     GP   F   18       U     GT3       A     4     4  at_home  teacher ...   \n",
      "1     GP   F   17       U     GT3       T     1     1  at_home    other ...   \n",
      "2     GP   F   15       U     LE3       T     1     1  at_home    other ...   \n",
      "\n",
      "  famrel freetime  goout  Dalc  Walc health absences  G1  G2  G3  \n",
      "0      4        3      4     1     1      3        4   0  11  11  \n",
      "1      5        3      3     1     1      3        2   9  11  11  \n",
      "2      4        3      2     2     3      3        6  12  13  12  \n",
      "\n",
      "[3 rows x 33 columns]\n"
     ]
    }
   ],
   "source": [
    "# импортируем, как и в первой части проекта\n",
    "data = pd.read_csv('student-por.csv', sep=';')\n",
    "print(data[:3])"
   ]
  },
  {
   "cell_type": "code",
   "execution_count": 87,
   "metadata": {
    "collapsed": false
   },
   "outputs": [
    {
     "name": "stdout",
     "output_type": "stream",
     "text": [
      "649\n",
      "194\n",
      "259\n",
      "196\n"
     ]
    }
   ],
   "source": [
    "# мы пронумеруем всех школьников и разобьем этот массив чисел на часть для обучения и часть для выборки:\n",
    "St = np.arange(data.shape[0])\n",
    "print(len(St))\n",
    "St_train, St_test = train_test_split(St, train_size=0.3)\n",
    "# Так как мы разбиваем контроль (St_num_test) в отношении 4:3, то большая часть (контрольная выборка) составляет 4/7, что примерно 57%\n",
    "# при этом контрольная выборка составляет примерно 40% от всей выборки, а скрытый контроль и обучение - примерно по 30%\n",
    "St_control, St_hidden = train_test_split(St_test, train_size=0.57)\n",
    "# проверим, что получилось с количеством:\n",
    "print(len(St_train))\n",
    "print(len(St_control))\n",
    "print(len(St_hidden))"
   ]
  },
  {
   "cell_type": "markdown",
   "metadata": {},
   "source": [
    "**2:**"
   ]
  },
  {
   "cell_type": "markdown",
   "metadata": {},
   "source": [
    "В первой части проекта мы обнаружили влияние на итоговую оценку по португальскому G3 следующих признаков:\n",
    "Школа (school), количество пропусков (absences), желание получить высшее образование (higher), и расстояние до школы (traveltime).\n",
    "Помимо этого, на оценку довольно сильно влияет место проживания (address), наличие у родителей высшего образования (Medu и Fedu), количество времени, которое студент тратит на занятия (studytime), наличие интернета (internet), и употребление алкоголя в будние дни (Dalc)."
   ]
  },
  {
   "cell_type": "code",
   "execution_count": 88,
   "metadata": {
    "collapsed": false
   },
   "outputs": [
    {
     "name": "stdout",
     "output_type": "stream",
     "text": [
      "11.086294416243655 12.263274336283185\n",
      "11.666666666666666 10.797202797202797 11.661290322580646 11.920863309352518 13.06857142857143\n",
      "12.142857142857142 10.936781609195402 11.78468899521531 12.381679389312977 12.921875\n",
      "10.84433962264151 12.091803278688525 13.22680412371134 13.057142857142857\n",
      "12.17269076305221 11.026490066225165\n",
      "12.299334811529933 11.363636363636363 11.13953488372093 8.941176470588236 10.235294117647058\n"
     ]
    }
   ],
   "source": [
    "addrrural = data[data.address == 'R']\n",
    "addrurban = data[data.address == 'U']\n",
    "print(addrrural.G3.mean(), addrurban.G3.mean())\n",
    "\n",
    "zero = data[data.Medu == 0]\n",
    "one = data[data.Medu == 1]\n",
    "two = data[data.Medu == 2]\n",
    "three = data[data.Medu == 3]\n",
    "four = data[data.Medu == 4]\n",
    "print(zero.G3.mean(), one.G3.mean(), two.G3.mean(), three.G3.mean(), four.G3.mean())\n",
    "\n",
    "zero = data[data.Fedu == 0]\n",
    "one = data[data.Fedu == 1]\n",
    "two = data[data.Fedu == 2]\n",
    "three = data[data.Fedu == 3]\n",
    "four = data[data.Fedu == 4]\n",
    "print(zero.G3.mean(), one.G3.mean(), two.G3.mean(), three.G3.mean(), four.G3.mean())\n",
    "\n",
    "one = data[data.studytime == 1]\n",
    "two = data[data.studytime == 2]\n",
    "three = data[data.studytime == 3]\n",
    "four = data[data.studytime == 4]\n",
    "print(one.G3.mean(), two.G3.mean(), three.G3.mean(), four.G3.mean())\n",
    "\n",
    "intyes = data[data.internet == 'yes']\n",
    "intno = data[data.internet == 'no']\n",
    "print(intyes.G3.mean(), intno.G3.mean())\n",
    "\n",
    "one = data[data.Dalc == 1]\n",
    "two = data[data.Dalc == 2]\n",
    "three = data[data.Dalc == 3]\n",
    "four = data[data.Dalc == 4]\n",
    "five = data[data.Dalc == 5]\n",
    "print(one.G3.mean(), two.G3.mean(), three.G3.mean(), four.G3.mean(), five.G3.mean())"
   ]
  },
  {
   "cell_type": "code",
   "execution_count": 89,
   "metadata": {
    "collapsed": false
   },
   "outputs": [
    {
     "data": {
      "text/html": [
       "<div>\n",
       "<table border=\"1\" class=\"dataframe\">\n",
       "  <thead>\n",
       "    <tr style=\"text-align: right;\">\n",
       "      <th></th>\n",
       "      <th>school</th>\n",
       "      <th>address</th>\n",
       "      <th>Medu</th>\n",
       "      <th>Fedu</th>\n",
       "      <th>traveltime</th>\n",
       "      <th>studytime</th>\n",
       "      <th>higher</th>\n",
       "      <th>internet</th>\n",
       "      <th>Dalc</th>\n",
       "      <th>absences</th>\n",
       "      <th>G3</th>\n",
       "    </tr>\n",
       "  </thead>\n",
       "  <tbody>\n",
       "    <tr>\n",
       "      <th>0</th>\n",
       "      <td>GP</td>\n",
       "      <td>U</td>\n",
       "      <td>4</td>\n",
       "      <td>4</td>\n",
       "      <td>2</td>\n",
       "      <td>2</td>\n",
       "      <td>yes</td>\n",
       "      <td>no</td>\n",
       "      <td>1</td>\n",
       "      <td>4</td>\n",
       "      <td>11</td>\n",
       "    </tr>\n",
       "    <tr>\n",
       "      <th>1</th>\n",
       "      <td>GP</td>\n",
       "      <td>U</td>\n",
       "      <td>1</td>\n",
       "      <td>1</td>\n",
       "      <td>1</td>\n",
       "      <td>2</td>\n",
       "      <td>yes</td>\n",
       "      <td>yes</td>\n",
       "      <td>1</td>\n",
       "      <td>2</td>\n",
       "      <td>11</td>\n",
       "    </tr>\n",
       "    <tr>\n",
       "      <th>2</th>\n",
       "      <td>GP</td>\n",
       "      <td>U</td>\n",
       "      <td>1</td>\n",
       "      <td>1</td>\n",
       "      <td>1</td>\n",
       "      <td>2</td>\n",
       "      <td>yes</td>\n",
       "      <td>yes</td>\n",
       "      <td>2</td>\n",
       "      <td>6</td>\n",
       "      <td>12</td>\n",
       "    </tr>\n",
       "  </tbody>\n",
       "</table>\n",
       "</div>"
      ],
      "text/plain": [
       "  school address  Medu  Fedu  traveltime  studytime higher internet  Dalc  \\\n",
       "0     GP       U     4     4           2          2    yes       no     1   \n",
       "1     GP       U     1     1           1          2    yes      yes     1   \n",
       "2     GP       U     1     1           1          2    yes      yes     2   \n",
       "\n",
       "   absences  G3  \n",
       "0         4  11  \n",
       "1         2  11  \n",
       "2         6  12  "
      ]
     },
     "execution_count": 89,
     "metadata": {},
     "output_type": "execute_result"
    }
   ],
   "source": [
    "data = data[['school', 'address', 'Medu', 'Fedu', 'traveltime', 'studytime', 'higher', \n",
    "         'internet', 'Dalc', 'absences', 'G3']]\n",
    "data[:3]"
   ]
  },
  {
   "cell_type": "markdown",
   "metadata": {},
   "source": [
    "Теперь, чтобы мы могли работать с таблицей, переведем все в числа, воспользовавшись методом one-hot кодирования:"
   ]
  },
  {
   "cell_type": "code",
   "execution_count": 90,
   "metadata": {
    "collapsed": false
   },
   "outputs": [
    {
     "data": {
      "text/html": [
       "<div>\n",
       "<table border=\"1\" class=\"dataframe\">\n",
       "  <thead>\n",
       "    <tr style=\"text-align: right;\">\n",
       "      <th></th>\n",
       "      <th>Medu</th>\n",
       "      <th>Fedu</th>\n",
       "      <th>traveltime</th>\n",
       "      <th>studytime</th>\n",
       "      <th>Dalc</th>\n",
       "      <th>absences</th>\n",
       "      <th>G3</th>\n",
       "      <th>school_GP</th>\n",
       "      <th>school_MS</th>\n",
       "      <th>address_R</th>\n",
       "      <th>address_U</th>\n",
       "      <th>higher_no</th>\n",
       "      <th>higher_yes</th>\n",
       "      <th>internet_no</th>\n",
       "      <th>internet_yes</th>\n",
       "    </tr>\n",
       "  </thead>\n",
       "  <tbody>\n",
       "    <tr>\n",
       "      <th>0</th>\n",
       "      <td>4</td>\n",
       "      <td>4</td>\n",
       "      <td>2</td>\n",
       "      <td>2</td>\n",
       "      <td>1</td>\n",
       "      <td>4</td>\n",
       "      <td>11</td>\n",
       "      <td>1</td>\n",
       "      <td>0</td>\n",
       "      <td>0</td>\n",
       "      <td>1</td>\n",
       "      <td>0</td>\n",
       "      <td>1</td>\n",
       "      <td>1</td>\n",
       "      <td>0</td>\n",
       "    </tr>\n",
       "    <tr>\n",
       "      <th>1</th>\n",
       "      <td>1</td>\n",
       "      <td>1</td>\n",
       "      <td>1</td>\n",
       "      <td>2</td>\n",
       "      <td>1</td>\n",
       "      <td>2</td>\n",
       "      <td>11</td>\n",
       "      <td>1</td>\n",
       "      <td>0</td>\n",
       "      <td>0</td>\n",
       "      <td>1</td>\n",
       "      <td>0</td>\n",
       "      <td>1</td>\n",
       "      <td>0</td>\n",
       "      <td>1</td>\n",
       "    </tr>\n",
       "    <tr>\n",
       "      <th>2</th>\n",
       "      <td>1</td>\n",
       "      <td>1</td>\n",
       "      <td>1</td>\n",
       "      <td>2</td>\n",
       "      <td>2</td>\n",
       "      <td>6</td>\n",
       "      <td>12</td>\n",
       "      <td>1</td>\n",
       "      <td>0</td>\n",
       "      <td>0</td>\n",
       "      <td>1</td>\n",
       "      <td>0</td>\n",
       "      <td>1</td>\n",
       "      <td>0</td>\n",
       "      <td>1</td>\n",
       "    </tr>\n",
       "  </tbody>\n",
       "</table>\n",
       "</div>"
      ],
      "text/plain": [
       "   Medu  Fedu  traveltime  studytime  Dalc  absences  G3  school_GP  \\\n",
       "0     4     4           2          2     1         4  11          1   \n",
       "1     1     1           1          2     1         2  11          1   \n",
       "2     1     1           1          2     2         6  12          1   \n",
       "\n",
       "   school_MS  address_R  address_U  higher_no  higher_yes  internet_no  \\\n",
       "0          0          0          1          0           1            1   \n",
       "1          0          0          1          0           1            0   \n",
       "2          0          0          1          0           1            0   \n",
       "\n",
       "   internet_yes  \n",
       "0             0  \n",
       "1             1  \n",
       "2             1  "
      ]
     },
     "execution_count": 90,
     "metadata": {},
     "output_type": "execute_result"
    }
   ],
   "source": [
    "data = pd.get_dummies(data)\n",
    "data[:3]"
   ]
  },
  {
   "cell_type": "markdown",
   "metadata": {},
   "source": [
    "Для обучения, контрольной выборки и скрытого контроля получаем матрицы объектов-признаков, с которыми мы будем работать, и для всех них указываем целевую переменную:"
   ]
  },
  {
   "cell_type": "code",
   "execution_count": 91,
   "metadata": {
    "collapsed": false
   },
   "outputs": [
    {
     "name": "stdout",
     "output_type": "stream",
     "text": [
      "     Medu  Fedu  traveltime  studytime  Dalc  absences  G3  school_GP  \\\n",
      "10      4     4           1          2     1         2  14          1   \n",
      "586     4     2           1          2     1         0   0          0   \n",
      "403     2     1           2          2     2        10  15          1   \n",
      "\n",
      "     school_MS  address_R  address_U  higher_no  higher_yes  internet_no  \\\n",
      "10           0          0          1          0           1            0   \n",
      "586          1          0          1          0           1            0   \n",
      "403          0          0          1          0           1            0   \n",
      "\n",
      "     internet_yes  \n",
      "10              1  \n",
      "586             1  \n",
      "403             1  \n",
      "     Medu  Fedu  traveltime  studytime  Dalc  absences  G3  school_GP  \\\n",
      "264     2     2           1          1     1         8  10          1   \n",
      "88      2     2           2          2     1         6  11          1   \n",
      "111     3     3           1          3     1         4  11          1   \n",
      "\n",
      "     school_MS  address_R  address_U  higher_no  higher_yes  internet_no  \\\n",
      "264          0          0          1          1           0            0   \n",
      "88           0          0          1          0           1            0   \n",
      "111          0          1          0          0           1            0   \n",
      "\n",
      "     internet_yes  \n",
      "264             1  \n",
      "88              1  \n",
      "111             1  \n",
      "     Medu  Fedu  traveltime  studytime  Dalc  absences  G3  school_GP  \\\n",
      "47      4     3           1          4     1         2  17          1   \n",
      "167     4     4           1          1     1         0  13          1   \n",
      "27      4     2           1          1     2         0  11          1   \n",
      "\n",
      "     school_MS  address_R  address_U  higher_no  higher_yes  internet_no  \\\n",
      "47           0          0          1          0           1            0   \n",
      "167          0          0          1          0           1            1   \n",
      "27           0          0          1          0           1            0   \n",
      "\n",
      "     internet_yes  \n",
      "47              1  \n",
      "167             0  \n",
      "27              1  \n"
     ]
    }
   ],
   "source": [
    "data_start = data.ix[St_train]\n",
    "data_start_features = data_start.drop('G3', axis='columns')\n",
    "data_start_target = data_start.G3\n",
    "\n",
    "data_control = data.ix[St_control]\n",
    "data_control_features = data_control.drop('G3', axis='columns')\n",
    "data_control_target = data_control.G3\n",
    "\n",
    "data_hidden = data.ix[St_hidden]\n",
    "data_hidden_features = data_hidden.drop('G3', axis='columns')\n",
    "data_hidden_target = data_hidden.G3\n",
    "\n",
    "print(data_start[:3])\n",
    "print(data_control[:3])\n",
    "print(data_hidden[:3])"
   ]
  },
  {
   "cell_type": "markdown",
   "metadata": {},
   "source": [
    "**3:**\n",
    "Ridge, Lasso, метод k ближайших соседей, метод решающих деревьев и метод случайных лесов"
   ]
  },
  {
   "cell_type": "code",
   "execution_count": null,
   "metadata": {
    "collapsed": true
   },
   "outputs": [],
   "source": []
  }
 ],
 "metadata": {
  "kernelspec": {
   "display_name": "Python 3",
   "language": "python",
   "name": "python3"
  },
  "language_info": {
   "codemirror_mode": {
    "name": "ipython",
    "version": 3
   },
   "file_extension": ".py",
   "mimetype": "text/x-python",
   "name": "python",
   "nbconvert_exporter": "python",
   "pygments_lexer": "ipython3",
   "version": "3.5.1"
  }
 },
 "nbformat": 4,
 "nbformat_minor": 0
}
