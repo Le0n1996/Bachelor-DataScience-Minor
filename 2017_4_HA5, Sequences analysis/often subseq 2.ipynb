{
 "cells": [
  {
   "cell_type": "markdown",
   "metadata": {},
   "source": [
    "#### Задание 2."
   ]
  },
  {
   "cell_type": "markdown",
   "metadata": {},
   "source": [
    "1) Определим число частых и частых замкнутых поледовательностей при $minsupp=1\\%^*$. \n",
    "\n",
    "Всего частных последовательностей 125.\n",
    "Всего частных замкнутых последовательностей 122.\n",
    "\n",
    "$^*$ 1 было интепретировано как 1%, так как если принять 1 за 100%, то получится, что у всех объектов одна и та же последовательность, чего не может быть. Если же 1 интерпретировать как 1 объект, то получим, что у каждой последовательности, которая там имеется, есть один объект поддержки - тот, в котором она встречается. "
   ]
  },
  {
   "cell_type": "markdown",
   "metadata": {},
   "source": [
    "#### 2) Сначала нужно разделить объекты по гендеру."
   ]
  },
  {
   "cell_type": "code",
   "execution_count": 263,
   "metadata": {
    "collapsed": true
   },
   "outputs": [],
   "source": [
    "f = open('socAttrAndSeqFusion(full).txt', 'r')\n",
    "    line1 = f.readlines()\n",
    "\n",
    "gender_0 = []\n",
    "gender_1 = []\n",
    "\n",
    "for i in line1:\n",
    "    sex = i.split('gender=')[1][0]\n",
    "    seq = ' '.join(i.split()[8:])\n",
    "    if gender == '0':\n",
    "        gender_0.append(seq)\n",
    "    else:\n",
    "        gender_1.append(seq)\n",
    "        \n",
    "f.close()"
   ]
  },
  {
   "cell_type": "code",
   "execution_count": 264,
   "metadata": {},
   "outputs": [],
   "source": [
    "f_out_0 = open('gender_0.txt','w')\n",
    "f_out_0.write('\\n'.join(gender_0))\n",
    "f_out_0.close()\n",
    "\n",
    "f_out_1 = open('gender_1.txt','w')\n",
    "f_out_1.write('\\n'.join(gender_1))\n",
    "f_out_1.close()"
   ]
  },
  {
   "cell_type": "markdown",
   "metadata": {},
   "source": [
    "Для gender_0:\n",
    "\n",
    "Наиболее частая последовательность длины:\n",
    "\n",
    "2 work, children (sup = 514)\n",
    "\n",
    "3 work, marriage, children (sup = 362)\n",
    "\n",
    "4 work, separation, marriage, children (sup = 95)\n",
    "\n",
    "5 work, separation, partner, marriage, children (sup = 10)\n",
    "\n",
    "Для gender_1:\n",
    "\n",
    "Наиболее частая последовательность длины:\n",
    "\n",
    "2 marriage, children (sup = 782)\n",
    "\n",
    "3 work, marriage, children (sup = 480)\n",
    "\n",
    "4 work, marriage, separation, children (sup = 156)\n",
    "\n",
    "5 work, partner, marriage, separation, children (sup = 17)\n",
    "\n"
   ]
  },
  {
   "cell_type": "markdown",
   "metadata": {},
   "source": [
    "#### 3) Сначала нужно разделить объекты по поколениям и гендеру. Всего 7 поколений и 2 пола, поэтому всевозможных пар 14."
   ]
  },
  {
   "cell_type": "code",
   "execution_count": 268,
   "metadata": {},
   "outputs": [],
   "source": [
    "gen_sex = [[] for i in range(14)]\n",
    "\n",
    "f = open('socAttrAndSeqFusion(full).txt', 'r')\n",
    "    line1 = f.readlines()\n",
    "    \n",
    "for i in line1:\n",
    "    generation = int(i.split('generation=')[1][0])\n",
    "    sex = int(i.split('gender=')[1][0])\n",
    "    seq = ' '.join(i.split()[8:])\n",
    "    gen_sex[7*sex+generation].append(sequence)"
   ]
  },
  {
   "cell_type": "markdown",
   "metadata": {},
   "source": [
    "Запишем это в отдельный .txt файл."
   ]
  },
  {
   "cell_type": "code",
   "execution_count": 270,
   "metadata": {},
   "outputs": [],
   "source": [
    "for i in range(len(gen_sex)):\n",
    "    f_out = open('gen'+str(i % 7)+'_sex'+str(i // 7)+'.txt','w')\n",
    "    f_out.write('\\n'.join(gen_sex[i]))\n",
    "    f_out.close()"
   ]
  },
  {
   "cell_type": "markdown",
   "metadata": {},
   "source": [
    "Распишем частые и замкнутые частые последовательности для всех 14 пар (x,y), где x - generation, y - gender(sex). \n",
    "\n"
   ]
  },
  {
   "cell_type": "markdown",
   "metadata": {},
   "source": [
    "Для (0,0):\n",
    "\n",
    "Всего частых последовательностей 67.\n",
    "\n",
    "Всего замкнутых частых: 56\n",
    "\n",
    "Самая часто встречаемая последовательность: work (sup = 118)."
   ]
  },
  {
   "cell_type": "markdown",
   "metadata": {},
   "source": [
    "Для (0,1):\n",
    "\n",
    "Всего частых последовательностей 74.\n",
    "\n",
    "Всего замкнутых частых: 73\n",
    "\n",
    "Самая часто встречаемая последовательность: work (sup = 130)."
   ]
  },
  {
   "cell_type": "markdown",
   "metadata": {},
   "source": [
    "Для (1,0):\n",
    "\n",
    "Всего частых последовательностей 99.\n",
    "\n",
    "Всего замкнутых частых: 41\n",
    "\n",
    "Самая часто встречаемая последовательность: marriage (sup = 38)."
   ]
  },
  {
   "cell_type": "markdown",
   "metadata": {},
   "source": [
    "Для (1,1):\n",
    "\n",
    "Всего частых последовательностей 114.\n",
    "\n",
    "Всего замкнутых частых: 58\n",
    "\n",
    "Самая часто встречаемая последовательность: marriage (sup = 73)."
   ]
  },
  {
   "cell_type": "markdown",
   "metadata": {},
   "source": [
    "Для (2,0):\n",
    "\n",
    "Всего частых последовательностей 98.\n",
    "\n",
    "Всего замкнутых частых: 62\n",
    "\n",
    "Самая часто встречаемая последовательность: marriage (sup = 79)."
   ]
  },
  {
   "cell_type": "markdown",
   "metadata": {},
   "source": [
    "Для (2,1):\n",
    "\n",
    "Всего частых последовательностей 110.\n",
    "\n",
    "Всего замкнутых частых: 94\n",
    "\n",
    "Самая часто встречаемая последовательность: marriage (sup = 208)."
   ]
  },
  {
   "cell_type": "markdown",
   "metadata": {},
   "source": [
    "Для (3,0):\n",
    "\n",
    "Всего частых последовательностей 96.\n",
    "\n",
    "Всего замкнутых частых: 77\n",
    "\n",
    "Самая часто встречаемая последовательность: marriage (sup = 113)."
   ]
  },
  {
   "cell_type": "markdown",
   "metadata": {},
   "source": [
    "Для (3,1):\n",
    "\n",
    "Всего частых последовательностей 115.\n",
    "\n",
    "Всего замкнутых частых: 103\n",
    "\n",
    "Самая часто встречаемая последовательность: marriage (sup = 191)."
   ]
  },
  {
   "cell_type": "markdown",
   "metadata": {},
   "source": [
    "Для (4,0):\n",
    "\n",
    "Всего частых последовательностей 139.\n",
    "\n",
    "Всего замкнутых частых: 121\n",
    "\n",
    "Самые часто встречаемые последовательности: children & marriage (sup = 151)."
   ]
  },
  {
   "cell_type": "markdown",
   "metadata": {},
   "source": [
    "Для (4,1):\n",
    "\n",
    "Всего частых последовательностей 125.\n",
    "\n",
    "Всего замкнутых частых: 113\n",
    "\n",
    "Самая часто встречаемая последовательность: marriage (sup = 206)."
   ]
  },
  {
   "cell_type": "markdown",
   "metadata": {},
   "source": [
    "Для (5,0):\n",
    "\n",
    "Всего частых последовательностей 166.\n",
    "\n",
    "Всего замкнутых частых: 136\n",
    "\n",
    "Самая часто встречаемая последовательность: work (sup = 156)."
   ]
  },
  {
   "cell_type": "markdown",
   "metadata": {},
   "source": [
    "Для (5,1):\n",
    "\n",
    "Всего частых последовательностей 151.\n",
    "\n",
    "Всего замкнутых частых: 133\n",
    "\n",
    "Самая часто встречаемая последовательность: children (sup = 189)."
   ]
  },
  {
   "cell_type": "markdown",
   "metadata": {},
   "source": [
    "Для (6,0):\n",
    "\n",
    "Всего частых последовательностей 142.\n",
    "\n",
    "Всего замкнутых частых: 123\n",
    "\n",
    "Самая часто встречаемая последовательность: work (sup = 206)."
   ]
  },
  {
   "cell_type": "markdown",
   "metadata": {},
   "source": [
    "Для (6,1):\n",
    "\n",
    "Всего частых последовательностей 157.\n",
    "\n",
    "Всего замкнутых частых: 143\n",
    "\n",
    "Самая часто встречаемая последовательность: children (sup = 182)."
   ]
  },
  {
   "cell_type": "code",
   "execution_count": null,
   "metadata": {
    "collapsed": true
   },
   "outputs": [],
   "source": []
  }
 ],
 "metadata": {
  "kernelspec": {
   "display_name": "Python 3",
   "language": "python",
   "name": "python3"
  },
  "language_info": {
   "codemirror_mode": {
    "name": "ipython",
    "version": 3
   },
   "file_extension": ".py",
   "mimetype": "text/x-python",
   "name": "python",
   "nbconvert_exporter": "python",
   "pygments_lexer": "ipython3",
   "version": "3.7.3"
  }
 },
 "nbformat": 4,
 "nbformat_minor": 1
}
